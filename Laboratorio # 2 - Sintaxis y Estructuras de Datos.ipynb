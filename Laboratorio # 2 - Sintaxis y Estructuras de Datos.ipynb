{
 "cells": [
  {
   "cell_type": "markdown",
   "id": "300ca00a-1d3a-4b5b-a7e5-1a1534f9724e",
   "metadata": {},
   "source": [
    "# Parte #1 - (Programación y Sintaxis)"
   ]
  },
  {
   "cell_type": "markdown",
   "id": "937cefcd-74c9-4abe-9b69-c91a5314a88e",
   "metadata": {},
   "source": [
    "##### 1. Programa en Python que recibe de parámetro un número en segundos y despliega en pantalla, las horas, minutos y segundos que representan\n",
    "----------------------------\n",
    "- Si el numero de segundos recibidos fuera: 2743 entonces su programa deberıa desplegar:\n",
    "Horas: 0, Minutos: 45 , Segundos: 43\n",
    "- Si el numero de segundos recibidos fuera 5871: Horas: 1, Minutos: 37 , Segundos: 51"
   ]
  },
  {
   "cell_type": "code",
   "execution_count": 70,
   "id": "06c062e9-06b8-4286-999a-55449cc48f13",
   "metadata": {
    "tags": []
   },
   "outputs": [
    {
     "name": "stdin",
     "output_type": "stream",
     "text": [
      "ingrese los segundos a calcular g\n"
     ]
    },
    {
     "name": "stdout",
     "output_type": "stream",
     "text": [
      "Ingrese un valor entero\n"
     ]
    },
    {
     "name": "stdin",
     "output_type": "stream",
     "text": [
      "ingrese los segundos a calcular f\n"
     ]
    },
    {
     "name": "stdout",
     "output_type": "stream",
     "text": [
      "Ingrese un valor entero\n"
     ]
    },
    {
     "name": "stdin",
     "output_type": "stream",
     "text": [
      "ingrese los segundos a calcular 2743\n"
     ]
    },
    {
     "name": "stdout",
     "output_type": "stream",
     "text": [
      "Los 2743 segundos ingresados, representan 0 horas con 45 minutos y 43 segundos\n"
     ]
    }
   ],
   "source": [
    "def calculadora_reloj(segundo):\n",
    "    hora = (segundo // 3600)\n",
    "    minutos = int((segundo % 3600)/60)\n",
    "    segundos = int((segundo % 3600) % 60)\n",
    "    print(f\"Los {segundo} segundos ingresados, representan {hora} horas con {minutos} minutos y {segundos} segundos\")\n",
    "while True:\n",
    "    try:\n",
    "        segundo = int(input(\"ingrese los segundos a calcular\"))\n",
    "        break\n",
    "    except ValueError:\n",
    "        print(\"Ingrese un valor entero\")\n",
    "calculadora_reloj(segundo)"
   ]
  },
  {
   "cell_type": "markdown",
   "id": "bba2d4e7-9d5d-47ad-afa5-1197b39b534f",
   "metadata": {},
   "source": [
    "##### 2. Función en Python que dado un número entre 1 y 20. Y un carácter cualquiera despliegue cuatro patrones triangulares.\n",
    "----------------------"
   ]
  },
  {
   "cell_type": "code",
   "execution_count": 93,
   "id": "bd426035-5aec-43e8-8504-81888c389baf",
   "metadata": {
    "tags": []
   },
   "outputs": [
    {
     "name": "stdout",
     "output_type": "stream",
     "text": [
      "Bienvenido a la calculadora de patrones\n",
      "El numero entero debe estar entre 1 y  20\n",
      "Los caracteres validos son #, @, $, %, &, *\n"
     ]
    },
    {
     "name": "stdin",
     "output_type": "stream",
     "text": [
      "Ingrese un número entre 1 y 20:  14\n",
      "Ingrese el caracter:  *\n"
     ]
    },
    {
     "name": "stdout",
     "output_type": "stream",
     "text": [
      "Patron numero 1:\n",
      "*\n",
      "**\n",
      "***\n",
      "****\n",
      "*****\n",
      "******\n",
      "*******\n",
      "********\n",
      "*********\n",
      "**********\n",
      "***********\n",
      "************\n",
      "*************\n",
      "**************\n",
      "Patron numero 2:\n",
      " **************\n",
      "  *************\n",
      "   ************\n",
      "    ***********\n",
      "     **********\n",
      "      *********\n",
      "       ********\n",
      "        *******\n",
      "         ******\n",
      "          *****\n",
      "           ****\n",
      "            ***\n",
      "             **\n",
      "              *\n",
      "Patron numero 3:\n",
      "**************\n",
      "*************\n",
      "************\n",
      "***********\n",
      "**********\n",
      "*********\n",
      "********\n",
      "*******\n",
      "******\n",
      "*****\n",
      "****\n",
      "***\n",
      "**\n",
      "*\n",
      "Patron numero 4:\n",
      "              \n",
      "             *\n",
      "            **\n",
      "           ***\n",
      "          ****\n",
      "         *****\n",
      "        ******\n",
      "       *******\n",
      "      ********\n",
      "     *********\n",
      "    **********\n",
      "   ***********\n",
      "  ************\n",
      " *************\n",
      "**************\n"
     ]
    }
   ],
   "source": [
    "def patrones(numero, caracter):\n",
    "    \n",
    "   print(\"Patron numero 1:\") # PATRON NUMERO 1\n",
    "   for i in range(1, numero + 1): #colocamos un rango de 1 al mumero ingresado por el usuario\n",
    "       print(caracter * i) #le decimos que imprima el caracter por la cantidad de veces i definido en el ciclo for\n",
    "    \n",
    "   print(\"Patron numero 2:\") #PATRON NUMERO 2\n",
    "   for i in range(numero,0 , -1):#definimos un rango de numeros, en este caso de un numero mayor a 0, el menos 1 es para que vaya en decremento\n",
    "       print(\" \"*(numero - (i-1)) + (caracter * i))#multiplicamos un espacio en blanco por la cantidad de veces el numero ingresado menos el valor de i en el ciclo for para luego concatenar el caracter por la cantidad de veces definido en el i\n",
    "        \n",
    "   print(\"Patron numero 3:\") # PATRON NUMERO 3\n",
    "   for i in range(numero, 0, -1):#definimos el rango de numeros que va del numero ingresado por el usuario hasta el 1 en decremento\n",
    "       print(caracter * i)#solamente multiplicamos el caracter por la cantidad de veces de i definido en el ciclo for\n",
    "    \n",
    "   print(\"Patron numero 4:\") # PATRON NUMERO 4\n",
    "   for i in range(numero + 1, 0, -1):#definimos el ra nmngo de numeros que va del numero ingresado por el usuario hasta el 1 en decremento\n",
    "       print(\" \" * (i - 1) + caracter * (numero - (i -1)))#solamente multiplicamos el caracter por la cantidad de veces de i definido en el ciclo for\n",
    "\n",
    "print(\"Bienvenido a la calculadora de patrones\")\n",
    "print(\"El numero entero debe estar entre 1 y  20\")\n",
    "print(\"Los caracteres validos son #, @, $, %, &, *\")\n",
    "\n",
    "while True:\n",
    "    try:\n",
    "        numero = int(input(\"Ingrese un número entre 1 y 20: \"))\n",
    "        if 1 <= numero <= 20:\n",
    "            break\n",
    "        else:\n",
    "            print(\"El valor ingresado no es un numero o no corresponde al rango: intente nuevamente\")\n",
    "    except ValueError:\n",
    "        print(\"Por favor, ingrese un número válido.\")\n",
    "\n",
    "caracteres_validos = [\"#\", \"@\", \"$\", \"%\", \"&\", \"*\"]\n",
    "while True:\n",
    "    caracter = input(\"Ingrese el caracter: \")\n",
    "    if caracter in caracteres_validos:\n",
    "        break\n",
    "    else:\n",
    "        print(\"Caracter no válido. Inténtelo nuevamente.\")\n",
    "        \n",
    "patrones(numero, caracter)"
   ]
  },
  {
   "cell_type": "markdown",
   "id": "afad918d-9f2b-485c-8776-c7257641db12",
   "metadata": {
    "tags": []
   },
   "source": [
    "##### 3. Programa en python que despliegua la edad de la persona en años, meses y días\n",
    "-------------------------------------"
   ]
  },
  {
   "cell_type": "code",
   "execution_count": 157,
   "id": "5d68a94f-1f1c-4338-baeb-1abb7c6acd32",
   "metadata": {
    "tags": []
   },
   "outputs": [
    {
     "name": "stdin",
     "output_type": "stream",
     "text": [
      "Ingrese el dia de nacimiento 30\n",
      "Ingrese el mes de nacimiento 3\n",
      "Ingrese el año de nacimiento 2024\n"
     ]
    },
    {
     "name": "stdout",
     "output_type": "stream",
     "text": [
      "-_- el sujeto aun no nace\n"
     ]
    }
   ],
   "source": [
    "import time\n",
    "\n",
    "fecha_actual = time.localtime()\n",
    "presente = (fecha_actual.tm_year, fecha_actual.tm_mon, fecha_actual.tm_mday)\n",
    "\n",
    "año_hoy = hoy[0]\n",
    "mes_hoy = hoy[1]\n",
    "dia_hoy = hoy[2]\n",
    "\n",
    "def dia_validador(dia_valor, rango):\n",
    "    while True:\n",
    "        try:\n",
    "            valor = int(input(dia_valor))\n",
    "            if valor in rango:\n",
    "                return valor\n",
    "            else:\n",
    "                print(\"No existe el dia, ingrese uno valido\")\n",
    "        except ValueError:\n",
    "            print(\"El valor ingresado no es un numero\")\n",
    "\n",
    "def mes_validador(mes_valor, rango):\n",
    "    while True:\n",
    "        try:\n",
    "            valor = int(input(mes_valor))\n",
    "            if valor in rango:\n",
    "                return valor\n",
    "            else:\n",
    "                print(\"No existe el mes, ingrese uno valido\")\n",
    "        except ValueError:\n",
    "            print(\"El valor ingresado no es un numero\")\n",
    "    \n",
    "def año_validador(año_valor):\n",
    "    while True:\n",
    "        try:\n",
    "            valor = int(input(año_valor))\n",
    "            if valor > 1500 :\n",
    "                return valor\n",
    "            else:\n",
    "                print(\"Ingrese un año logico\")\n",
    "        except ValueError:\n",
    "            print(\"El valor ingresado no es un numero\")\n",
    "\n",
    "\n",
    "dia_nac = dia_validador(\"Ingrese el dia de nacimiento\", range(1, 32))\n",
    "mes_nac = mes_validador(\"Ingrese el mes de nacimiento\", range(1,13))         \n",
    "año_nac = año_validador(\"Ingrese el año de nacimiento\")\n",
    "\n",
    "if año_nac > año_hoy or (año_nac == año_hoy and mes_nac > mes_hoy) or (año_nac == año_hoy and mes_nac == mes_hoy and dia_nac > dia_hoy):\n",
    "    print(\"-_- el sujeto aun no nace\")\n",
    "\n",
    "elif mes_nac == mes_hoy and dia_nac > dia_hoy:\n",
    "    año = (año_hoy - año_nac - 1)\n",
    "    mes = 11\n",
    "    dia = dia_hoy\n",
    "    print(f\"tiene {año} años con {mes} meses y {dia} dias de haber nacido\")\n",
    "elif mes_nac == mes_hoy and dia_nac < dia_hoy:\n",
    "    año = año_hoy - año_nac\n",
    "    mes = 0\n",
    "    dia = (dia_hoy - dia_nac)\n",
    "    print(f\"tiene {año} años con {mes} meses y {dia} dias de haber nacido\")\n",
    "elif mes_nac > mes_hoy:\n",
    "    año = (año_hoy - año_nac - 1)\n",
    "    mes = int(((((12-mes_nac)+(mes_hoy - 1))*30) +((30-dia_nac)+dia_hoy))/30)\n",
    "    dia = int(((((12-mes_nac)+(mes_hoy - 1))*30) +((30-dia_nac)+dia_hoy))%30)\n",
    "    print(f\"tiene {año} años con {mes} meses y {dia} dias de haber nacido\")\n",
    "elif mes_nac < mes_hoy:\n",
    "    año = (año_hoy - año_nac)\n",
    "    mes = int((((mes_hoy-mes_nac)*30)+(30-dia_nac)+dia_hoy)/30)\n",
    "    dia =  int((((mes_hoy-mes_nac)*30)+(30-dia_nac)+dia_hoy)%30)\n",
    "    print(f\"tiene {año} años con {mes} meses y {dia} dias de haber nacido\")\n",
    "else:\n",
    "    print(\"Feliz Cumpleaños :D :D :D :D\")\n"
   ]
  },
  {
   "cell_type": "markdown",
   "id": "7a173f4a-65e8-4298-8b49-685db5e6ee53",
   "metadata": {},
   "source": [
    "##### 4. Escriba una función en Python que dada una tupla de elementos (números o letras) esta se convierta a un string.\n",
    "---------------"
   ]
  },
  {
   "cell_type": "code",
   "execution_count": 167,
   "id": "f19649e1-f01e-427d-84a9-a4b33a6c461f",
   "metadata": {
    "tags": []
   },
   "outputs": [
    {
     "name": "stdout",
     "output_type": "stream",
     "text": [
      "Ingrese una tupla con o sin parentesis, sepados por coma\n"
     ]
    },
    {
     "name": "stdin",
     "output_type": "stream",
     "text": [
      "Ingrese los valores de la tupla 123, asdf, 1234, asfd\n"
     ]
    },
    {
     "name": "stdout",
     "output_type": "stream",
     "text": [
      "123asdf1234asfd\n"
     ]
    }
   ],
   "source": [
    "def strtupla(tupla):\n",
    "    cadena = \"\"\n",
    "    for valor in tupla:\n",
    "        cadena += str(valor)\n",
    "    return cadena\n",
    "\n",
    "print(\"Ingrese una tupla con o sin parentesis, sepados por coma\")\n",
    "valores = input(\"Ingrese los valores de la tupla\")\n",
    "valores_sparentesis1=valores.replace(\"(\",\"\")\n",
    "valores_sparentesis2=valores_sparentesis1.replace(\")\",\"\")\n",
    "valores_sespacios = valores_sparentesis2.replace(\" \", \"\")\n",
    "\n",
    "lista = valores_sespacios.split(\",\")\n",
    "\n",
    "cadenaconcat = strtupla(lista)\n",
    "print(cadenaconcat)"
   ]
  },
  {
   "cell_type": "markdown",
   "id": "8835b4a2-b9ab-4f83-9bfe-8efc40c54463",
   "metadata": {},
   "source": [
    "##### 5. Programa que elimina las tuplas vacias de un listado de tuplas\n",
    "---------------"
   ]
  },
  {
   "cell_type": "code",
   "execution_count": 180,
   "id": "06140b3f-b416-4a4a-8bbb-4e4a1c737ffc",
   "metadata": {
    "tags": []
   },
   "outputs": [
    {
     "name": "stdout",
     "output_type": "stream",
     "text": [
      "Ingrese una tupla con el siguiente formato: [(valor1),(valor2),...,(valorn)]\n"
     ]
    },
    {
     "name": "stdin",
     "output_type": "stream",
     "text": [
      "Ingrese los valores de la tupla [(), (), (’X’,), (’a’, ’b’), (’a’, ’b’, ’c’), (’d’)]\n"
     ]
    },
    {
     "name": "stdout",
     "output_type": "stream",
     "text": [
      "[()()(’X’)(’a’’b’)(’a’’b’’c’)(’d’)]\n"
     ]
    }
   ],
   "source": [
    "def strtupla(tupla):\n",
    "    cadena = \"\"\n",
    "    for valor in tupla:\n",
    "        cadena += str(valor)\n",
    "    return cadena\n",
    "\n",
    "print(\"Ingrese una tupla con el siguiente formato: [(valor1),(valor2),...,(valorn)]\")\n",
    "valores = input(\"Ingrese los valores de la tupla\")\n",
    "valores_sespacios = valores.replace(\" \", \"\")\n",
    "\n",
    "lista = valores_sespacios.split(\",\")\n",
    "valores_llenos = [tupla for tupla in lista if tupla != '()']\n",
    "\n",
    "cadenaconcat = strtupla(valores_llenos)\n",
    "print(cadenaconcat)"
   ]
  },
  {
   "cell_type": "markdown",
   "id": "fb9952b4-7192-4382-a0df-cd3b60a4ddd4",
   "metadata": {},
   "source": [
    "##### 5. Cree una funcion en Python que dada una tupla de tuplas con numeros, produzca una tupla con el promedio de cada tupla individual, debe usar comprehensions para desarrollar este ejercicio\n",
    "--------------------"
   ]
  },
  {
   "cell_type": "code",
   "execution_count": 192,
   "id": "d4ebf809-ae96-4a43-925b-82143c2a1403",
   "metadata": {
    "tags": []
   },
   "outputs": [
    {
     "name": "stdin",
     "output_type": "stream",
     "text": [
      "Ingrese valores numericos para tupla 1 separados por coma valo1, valor2, ... , valorn  1,2,4,5,6\n",
      "Ingrese valores numericos para tupla 2 separados por coma valo1, valor2, ... , valorn  6,7,8,9,8\n",
      "Ingrese valores numericos para tupla 3 separados por coma valo1, valor2, ... , valorn  4,5,6,7,8\n"
     ]
    },
    {
     "name": "stdout",
     "output_type": "stream",
     "text": [
      "Tupla1 es: (1, 2, 4, 5, 6) y su promedio es de 3.6\n",
      "Tupla1 es: (6, 7, 8, 9, 8) y su promedio es de 7.6\n",
      "Tupla1 es: (6, 7, 8, 9, 8) y su promedio es de 7.6\n",
      "El promedio es de:  (3.6, 7.6, 6.0)\n"
     ]
    }
   ],
   "source": [
    "while True:\n",
    "    valores_tupla1 = input(\"Ingrese valores numericos para tupla 1 separados por coma valo1, valor2, ... , valorn \")\n",
    "    valores = valores_tupla1.split(',')\n",
    "\n",
    "    if all(valor.strip().isdigit() for valor in valores):\n",
    "        tupla1 = tuple(map(int, valores))\n",
    "        break\n",
    "    else:\n",
    "        print(\"Error: Ingrese únicamente valores numéricos.\")\n",
    "while True:\n",
    "    valores_tupla2 = input(\"Ingrese valores numericos para tupla 2 separados por coma valo1, valor2, ... , valorn \")\n",
    "    valores2 = valores_tupla2.split(',')\n",
    "\n",
    "    if all(valor.strip().isdigit() for valor in valores2):\n",
    "        tupla2 = tuple(map(int, valores2))\n",
    "        break\n",
    "    else:\n",
    "        print(\"Error: Ingrese únicamente valores numéricos.\")\n",
    "while True:\n",
    "    valores_tupla3 = input(\"Ingrese valores numericos para tupla 3 separados por coma valo1, valor2, ... , valorn \")\n",
    "    valores3 = valores_tupla3.split(',')\n",
    "\n",
    "    if all(valor.strip().isdigit() for valor in valores3):\n",
    "        tupla3 = tuple(map(int, valores3))\n",
    "        break\n",
    "    else:\n",
    "        print(\"Error: Ingrese únicamente valores numéricos.\")\n",
    "\n",
    "prom_tupla1 = sum(tupla1) / len(tupla1)\n",
    "prom_tupla2 = sum(tupla2) / len(tupla2)\n",
    "prom_tupla3 = sum(tupla3) / len(tupla3)\n",
    "promedio = (prom_tupla1, prom_tupla2, prom_tupla3)\n",
    "\n",
    "print(f\"Tupla1 es: {tupla1} y su promedio es de {prom_tupla1}\") \n",
    "print(f\"Tupla1 es: {tupla2} y su promedio es de {prom_tupla2}\") \n",
    "print(f\"Tupla1 es: {tupla2} y su promedio es de {prom_tupla2}\") \n",
    "print(\"El promedio es de: \", promedio)\n"
   ]
  },
  {
   "cell_type": "markdown",
   "id": "d8cd32c5-1e43-4f21-bc38-e35e8dd51937",
   "metadata": {},
   "source": [
    "##### 7. Programa que gestione las facturas pendientes de cobro de una empresa\n",
    "------"
   ]
  },
  {
   "cell_type": "code",
   "execution_count": 222,
   "id": "bfd265e4-ed18-42c1-ba99-2a14b24ad205",
   "metadata": {
    "tags": []
   },
   "outputs": [
    {
     "name": "stdout",
     "output_type": "stream",
     "text": [
      "________________________________\n",
      "--------------------------------\n",
      "     SELECCIONE UNA OPCION      \n",
      "OPCION 1.- AÑADIR NUEVA FACTURA\n",
      "OPCION 2.- PAGAR FACTURA EXISTENTE\n",
      "OPCION 3.- FINALIZAR PROGRAMA\n",
      "--------------------------------\n",
      "________________________________\n"
     ]
    },
    {
     "name": "stdin",
     "output_type": "stream",
     "text": [
      "SELECCIONE LA OPERACION QUE DESEA EJECUTAR 1.2.3 1\n",
      "INGRESE EL NUMERO DE FACTURA DE 4 DIGITOS 1234\n",
      "INGRESE EL MONTO DE LA FACTURA 5346\n"
     ]
    },
    {
     "name": "stdout",
     "output_type": "stream",
     "text": [
      "---------DETALLE FACTURA------------\n",
      "+----------------------+-----------+\n",
      "| NUMERO FACTURA    | VALOR FACTURA     |\n",
      "+----------------------+-----------+\n",
      "| 1234                 |   5346.00 |\n",
      "+----------------------+-----------+\n",
      "TOTAL COBRADO 5346.00\n",
      "TOTAL PENDIENTE DE COBRO 5346.00\n",
      "________________________________\n",
      "--------------------------------\n",
      "     SELECCIONE UNA OPCION      \n",
      "OPCION 1.- AÑADIR NUEVA FACTURA\n",
      "OPCION 2.- PAGAR FACTURA EXISTENTE\n",
      "OPCION 3.- FINALIZAR PROGRAMA\n",
      "--------------------------------\n",
      "________________________________\n"
     ]
    },
    {
     "name": "stdin",
     "output_type": "stream",
     "text": [
      "SELECCIONE LA OPERACION QUE DESEA EJECUTAR 1.2.3 1\n",
      "INGRESE EL NUMERO DE FACTURA DE 4 DIGITOS 2346\n",
      "INGRESE EL MONTO DE LA FACTURA 4357\n"
     ]
    },
    {
     "name": "stdout",
     "output_type": "stream",
     "text": [
      "---------DETALLE FACTURA------------\n",
      "+----------------------+-----------+\n",
      "| NUMERO FACTURA    | VALOR FACTURA     |\n",
      "+----------------------+-----------+\n",
      "| 1234                 |   5346.00 |\n",
      "| 2346                 |   4357.00 |\n",
      "+----------------------+-----------+\n",
      "TOTAL COBRADO 9703.00\n",
      "TOTAL PENDIENTE DE COBRO 9703.00\n",
      "________________________________\n",
      "--------------------------------\n",
      "     SELECCIONE UNA OPCION      \n",
      "OPCION 1.- AÑADIR NUEVA FACTURA\n",
      "OPCION 2.- PAGAR FACTURA EXISTENTE\n",
      "OPCION 3.- FINALIZAR PROGRAMA\n",
      "--------------------------------\n",
      "________________________________\n"
     ]
    },
    {
     "name": "stdin",
     "output_type": "stream",
     "text": [
      "SELECCIONE LA OPERACION QUE DESEA EJECUTAR 1.2.3 1\n",
      "INGRESE EL NUMERO DE FACTURA DE 4 DIGITOS 2345\n",
      "INGRESE EL MONTO DE LA FACTURA 2355\n"
     ]
    },
    {
     "name": "stdout",
     "output_type": "stream",
     "text": [
      "---------DETALLE FACTURA------------\n",
      "+----------------------+-----------+\n",
      "| NUMERO FACTURA    | VALOR FACTURA     |\n",
      "+----------------------+-----------+\n",
      "| 1234                 |   5346.00 |\n",
      "| 2346                 |   4357.00 |\n",
      "| 2345                 |   2355.00 |\n",
      "+----------------------+-----------+\n",
      "TOTAL COBRADO 12058.00\n",
      "TOTAL PENDIENTE DE COBRO 12058.00\n",
      "________________________________\n",
      "--------------------------------\n",
      "     SELECCIONE UNA OPCION      \n",
      "OPCION 1.- AÑADIR NUEVA FACTURA\n",
      "OPCION 2.- PAGAR FACTURA EXISTENTE\n",
      "OPCION 3.- FINALIZAR PROGRAMA\n",
      "--------------------------------\n",
      "________________________________\n"
     ]
    },
    {
     "name": "stdin",
     "output_type": "stream",
     "text": [
      "SELECCIONE LA OPERACION QUE DESEA EJECUTAR 1.2.3 1\n",
      "INGRESE EL NUMERO DE FACTURA DE 4 DIGITOS 2345\n"
     ]
    },
    {
     "name": "stdout",
     "output_type": "stream",
     "text": [
      "***********************************************************************************\n",
      "         EL NUMERO DE FACTURA YA EXISTE, INGRESE UNO DIFERENTE                      \n",
      "***********************************************************************************\n",
      "________________________________\n",
      "--------------------------------\n",
      "     SELECCIONE UNA OPCION      \n",
      "OPCION 1.- AÑADIR NUEVA FACTURA\n",
      "OPCION 2.- PAGAR FACTURA EXISTENTE\n",
      "OPCION 3.- FINALIZAR PROGRAMA\n",
      "--------------------------------\n",
      "________________________________\n"
     ]
    },
    {
     "name": "stdin",
     "output_type": "stream",
     "text": [
      "SELECCIONE LA OPERACION QUE DESEA EJECUTAR 1.2.3 34667\n"
     ]
    },
    {
     "name": "stdout",
     "output_type": "stream",
     "text": [
      "***************INGRESE UNA OPCION VALIDA***************\n",
      "________________________________\n",
      "--------------------------------\n",
      "     SELECCIONE UNA OPCION      \n",
      "OPCION 1.- AÑADIR NUEVA FACTURA\n",
      "OPCION 2.- PAGAR FACTURA EXISTENTE\n",
      "OPCION 3.- FINALIZAR PROGRAMA\n",
      "--------------------------------\n",
      "________________________________\n"
     ]
    },
    {
     "name": "stdin",
     "output_type": "stream",
     "text": [
      "SELECCIONE LA OPERACION QUE DESEA EJECUTAR 1.2.3 1\n",
      "INGRESE EL NUMERO DE FACTURA DE 4 DIGITOS 2356\n",
      "INGRESE EL MONTO DE LA FACTURA 2367\n"
     ]
    },
    {
     "name": "stdout",
     "output_type": "stream",
     "text": [
      "---------DETALLE FACTURA------------\n",
      "+----------------------+-----------+\n",
      "| NUMERO FACTURA    | VALOR FACTURA     |\n",
      "+----------------------+-----------+\n",
      "| 1234                 |   5346.00 |\n",
      "| 2346                 |   4357.00 |\n",
      "| 2345                 |   2355.00 |\n",
      "| 2356                 |   2367.00 |\n",
      "+----------------------+-----------+\n",
      "TOTAL COBRADO 14425.00\n",
      "TOTAL PENDIENTE DE COBRO 14425.00\n",
      "________________________________\n",
      "--------------------------------\n",
      "     SELECCIONE UNA OPCION      \n",
      "OPCION 1.- AÑADIR NUEVA FACTURA\n",
      "OPCION 2.- PAGAR FACTURA EXISTENTE\n",
      "OPCION 3.- FINALIZAR PROGRAMA\n",
      "--------------------------------\n",
      "________________________________\n"
     ]
    },
    {
     "name": "stdin",
     "output_type": "stream",
     "text": [
      "SELECCIONE LA OPERACION QUE DESEA EJECUTAR 1.2.3 1\n",
      "INGRESE EL NUMERO DE FACTURA DE 4 DIGITOS 3467\n",
      "INGRESE EL MONTO DE LA FACTURA 2378\n"
     ]
    },
    {
     "name": "stdout",
     "output_type": "stream",
     "text": [
      "---------DETALLE FACTURA------------\n",
      "+----------------------+-----------+\n",
      "| NUMERO FACTURA    | VALOR FACTURA     |\n",
      "+----------------------+-----------+\n",
      "| 1234                 |   5346.00 |\n",
      "| 2346                 |   4357.00 |\n",
      "| 2345                 |   2355.00 |\n",
      "| 2356                 |   2367.00 |\n",
      "| 3467                 |   2378.00 |\n",
      "+----------------------+-----------+\n",
      "TOTAL COBRADO 16803.00\n",
      "TOTAL PENDIENTE DE COBRO 16803.00\n",
      "________________________________\n",
      "--------------------------------\n",
      "     SELECCIONE UNA OPCION      \n",
      "OPCION 1.- AÑADIR NUEVA FACTURA\n",
      "OPCION 2.- PAGAR FACTURA EXISTENTE\n",
      "OPCION 3.- FINALIZAR PROGRAMA\n",
      "--------------------------------\n",
      "________________________________\n"
     ]
    },
    {
     "name": "stdin",
     "output_type": "stream",
     "text": [
      "SELECCIONE LA OPERACION QUE DESEA EJECUTAR 1.2.3 2\n",
      "INGRESE EL NUMERO DE FACTURA DE 4 DIGITOS 1234\n"
     ]
    },
    {
     "name": "stdout",
     "output_type": "stream",
     "text": [
      "---------DETALLE FACTURA------------\n",
      "+----------------------+-----------+\n",
      "| NUMERO FACTURA    | VALOR FACTURA     |\n",
      "+----------------------+-----------+\n",
      "| 2346                 |   4357.00 |\n",
      "| 2345                 |   2355.00 |\n",
      "| 2356                 |   2367.00 |\n",
      "| 3467                 |   2378.00 |\n",
      "+----------------------+-----------+\n",
      "TOTAL COBRADO 11457.00\n",
      "TOTAL PENDIENTE DE COBRO 11457.00\n",
      "________________________________\n",
      "--------------------------------\n",
      "     SELECCIONE UNA OPCION      \n",
      "OPCION 1.- AÑADIR NUEVA FACTURA\n",
      "OPCION 2.- PAGAR FACTURA EXISTENTE\n",
      "OPCION 3.- FINALIZAR PROGRAMA\n",
      "--------------------------------\n",
      "________________________________\n"
     ]
    },
    {
     "name": "stdin",
     "output_type": "stream",
     "text": [
      "SELECCIONE LA OPERACION QUE DESEA EJECUTAR 1.2.3 3\n"
     ]
    },
    {
     "name": "stdout",
     "output_type": "stream",
     "text": [
      "*****************************************************\n",
      ":D :D :D GRACIAS POR CONFIAR EN NOSOSTROS ;) :* :* :*\n",
      "*****************************************************\n"
     ]
    }
   ],
   "source": [
    "def inv_facturas(diccionario_facturas, total_cobrado, total_pendiente):\n",
    "    print(\"---------INVENTARIO DE FACTURAS PENDIENTES-----------\")\n",
    "    print(\"No_FACTURA\", diccionario_facturas)\n",
    "    print(\"TOTAL COBRADO:\", total_cobrado)\n",
    "    print(\"PENDIENTE DE COBRO\", total_pendiente)\n",
    "\n",
    "def factura_valid(valor):\n",
    "    try:\n",
    "        entero = int(valor)\n",
    "        return len(str(entero)) == 4\n",
    "    except ValueError:\n",
    "        return False\n",
    "\n",
    "def monto_valid(valor):\n",
    "    try:\n",
    "        valor_float = float(valor)\n",
    "        return True\n",
    "    except ValueError:\n",
    "        return False\n",
    "\n",
    "def fact_valid_int():\n",
    "    while True:\n",
    "        No_factura = input(\"INGRESE EL NUMERO DE FACTURA DE 4 DIGITOS\")\n",
    "        if factura_valid(No_factura):\n",
    "            return int(No_factura)\n",
    "        else:\n",
    "            print(\"************************************************************************************\")\n",
    "            print(\"                NUMERO DE FACTURA NO VALIDO, INGRESE UNO CORRECTAMENTE              \")\n",
    "            print(\"************************************************************************************\")\n",
    "\n",
    "def monto_valid_int():\n",
    "    while True:\n",
    "        factura_monto = input(\"INGRESE EL MONTO DE LA FACTURA\")\n",
    "        if monto_valid(factura_monto):\n",
    "            return float(factura_monto)\n",
    "        else:\n",
    "            print(\"*****************************************************\")\n",
    "            print(\"         INGRESE UN MONTO VALIDO                     \")\n",
    "            print(\"*****************************************************\")\n",
    "\n",
    "def inv_facturas(diccionario_facturas, total_cobrado, total_pendiente):\n",
    "    print(\"---------DETALLE FACTURA------------\")\n",
    "    print(\"+----------------------+-----------+\")\n",
    "    print(\"| NUMERO FACTURA    | VALOR FACTURA     |\")\n",
    "    print(\"+----------------------+-----------+\")\n",
    "\n",
    "    for No_factura, costo in diccionario_facturas.items():\n",
    "        print(f\"| {No_factura:<20} | {costo:>9.2f} |\")\n",
    "\n",
    "    print(\"+----------------------+-----------+\")\n",
    "    print(f\"TOTAL COBRADO {total_cobrado:.2f}\")\n",
    "    print(f\"TOTAL PENDIENTE DE COBRO {total_pendiente:.2f}\")\n",
    "\n",
    "\n",
    "def sistema():\n",
    "    diccionario_facturas = {}\n",
    "    total_cobrado = 0\n",
    "\n",
    "    while True:\n",
    "        print(\"________________________________\")\n",
    "        print(\"--------------------------------\")\n",
    "        print(\"     SELECCIONE UNA OPCION      \")\n",
    "        print(\"OPCION 1.- AÑADIR NUEVA FACTURA\")\n",
    "        print(\"OPCION 2.- PAGAR FACTURA EXISTENTE\")\n",
    "        print(\"OPCION 3.- FINALIZAR PROGRAMA\")\n",
    "        print(\"--------------------------------\")\n",
    "        print(\"________________________________\")\n",
    "        opcion = input(\"SELECCIONE LA OPERACION QUE DESEA EJECUTAR 1.2.3\")\n",
    "\n",
    "        if opcion == \"1\":\n",
    "            No_factura = fact_valid_int()\n",
    "            if No_factura in diccionario_facturas:\n",
    "                print(\"***********************************************************************************\")\n",
    "                print(\"         EL NUMERO DE FACTURA YA EXISTE, INGRESE UNO DIFERENTE                      \")\n",
    "                print(\"***********************************************************************************\")\n",
    "                continue\n",
    "            factura_monto = monto_valid_int()\n",
    "            diccionario_facturas[No_factura] = factura_monto\n",
    "            total_cobrado += factura_monto\n",
    "            inv_facturas(diccionario_facturas, total_cobrado, sum(diccionario_facturas.values()))\n",
    "\n",
    "\n",
    "        elif opcion == \"2\":\n",
    "            No_factura = fact_valid_int()\n",
    "\n",
    "            if No_factura in diccionario_facturas:\n",
    "                monto_pagado = diccionario_facturas.pop(No_factura)\n",
    "                total_cobrado -= monto_pagado\n",
    "                inv_facturas(diccionario_facturas, total_cobrado, sum(diccionario_facturas.values()))\n",
    "            else:\n",
    "                print(\"******************************************************************************************\")\n",
    "                print(\"              EL NUMERO DE FACTURA INGRESADO NO EXISTE, INGRESE UNO VALIDO                 \")\n",
    "                print(\"******************************************************************************************\")\n",
    "\n",
    "        elif opcion == \"3\":\n",
    "            print(\"*****************************************************\")\n",
    "            print(\":D :D :D GRACIAS POR CONFIAR EN NOSOSTROS ;) :* :* :*\")\n",
    "            print(\"*****************************************************\")\n",
    "            break\n",
    "\n",
    "        else:\n",
    "            print(\"***************INGRESE UNA OPCION VALIDA***************\")\n",
    "\n",
    "if __name__ == \"__main__\":\n",
    "    sistema()"
   ]
  },
  {
   "cell_type": "markdown",
   "id": "50b06769-a2be-46d9-b6f8-c5b7724d2d1f",
   "metadata": {},
   "source": [
    "##### 8. Función en Python que crea un set con todas las cartas de una baraja de Pocker\n",
    "---------------------------"
   ]
  },
  {
   "cell_type": "code",
   "execution_count": 242,
   "id": "51b3dbff-a999-404c-9a52-691f569d5a8d",
   "metadata": {
    "tags": []
   },
   "outputs": [
    {
     "name": "stdout",
     "output_type": "stream",
     "text": [
      "{'T04', 'C03', 'C07', 'T12', 'T05', 'T10', 'P04', 'P07', 'P02', 'C04', 'P10', 'P09', 'P01', 'E08', 'C10', 'T03', 'E03', 'T13', 'T11', 'E09', 'C02', 'C13', 'E04', 'C01', 'C05', 'P11', 'T01', 'T02', 'E06', 'C06', 'T07', 'E01', 'P13', 'E07', 'T08', 'T09', 'C08', 'C09', 'T06', 'E10', 'E12', 'C12', 'C11', 'E13', 'P06', 'P12', 'P05', 'E02', 'E05', 'E11', 'P03', 'P08'}\n"
     ]
    }
   ],
   "source": [
    "def baraja_pocker():\n",
    "    cartas_tipos = ['T', 'C', 'P', 'E']\n",
    "    numeros = [str(i).rjust(2, '0')[-2:] for i in range(1, 14)]\n",
    "    barajas = {f'{cartas_tipos}{numero}' for cartas_tipos in cartas_tipos for numero in numeros}\n",
    "    return barajas\n",
    "baraja_final = baraja_pocker()\n",
    "print(baraja_final)"
   ]
  },
  {
   "cell_type": "markdown",
   "id": "b3d94549-a2d1-4502-ade9-343a0764d4d9",
   "metadata": {},
   "source": [
    "- funcion que dado el conjunto anterior cree dos sets nuevos de cartas, cada conjunto debe tener una cantidad variable de elementos, puede utilizar numeros aleatorios enteros para definir la longitud de los conjuntos"
   ]
  },
  {
   "cell_type": "code",
   "execution_count": 250,
   "id": "2ba5edc1-a23b-40b1-a26a-032886f45a85",
   "metadata": {
    "tags": []
   },
   "outputs": [
    {
     "name": "stdout",
     "output_type": "stream",
     "text": [
      "La primera baraja aleatoria:  {'C03', 'T12', 'P02', 'C04', 'P01', 'C10', 'E03', 'T13', 'E09', 'T11', 'T02', 'E06', 'T07', 'P13', 'T09', 'C09', 'T06', 'C12', 'C11', 'P05', 'P08'}\n",
      "La segunda baraja aleatoria:  {'T05', 'C06', 'P05', 'E02', 'E08', 'T06', 'C11'}\n"
     ]
    }
   ],
   "source": [
    "import random\n",
    "\n",
    "def barajas_aleatorias(baraja):\n",
    "    conjunto1 = random.randint(1, len(baraja))\n",
    "    conjunto2 = random.randint(1, len(baraja))\n",
    "\n",
    "    nueva_baraja1 = set(random.sample(list(baraja), conjunto1))\n",
    "    nueva_baraja2 = set(random.sample(list(baraja), conjunto2))\n",
    "\n",
    "    return nueva_baraja1, nueva_baraja2\n",
    "\n",
    "baraja_final2= baraja_pocker()\n",
    "nueva_baraja1, nueva_baraja2 = barajas_aleatorias(baraja_final)\n",
    "\n",
    "print(\"La primera baraja aleatoria: \", nueva_baraja1)\n",
    "print(\"La segunda baraja aleatoria: \", nueva_baraja2)"
   ]
  }
 ],
 "metadata": {
  "kernelspec": {
   "display_name": "Python 3 (ipykernel)",
   "language": "python",
   "name": "python3"
  },
  "language_info": {
   "codemirror_mode": {
    "name": "ipython",
    "version": 3
   },
   "file_extension": ".py",
   "mimetype": "text/x-python",
   "name": "python",
   "nbconvert_exporter": "python",
   "pygments_lexer": "ipython3",
   "version": "3.11.5"
  }
 },
 "nbformat": 4,
 "nbformat_minor": 5
}
