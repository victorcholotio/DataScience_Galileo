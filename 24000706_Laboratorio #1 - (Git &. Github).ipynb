{
 "cells": [
  {
   "cell_type": "markdown",
   "id": "f0059cf4-b587-4db0-8f66-f91e4217adfd",
   "metadata": {
    "tags": []
   },
   "source": [
    "# Laboratorio # 1 (Git & GitHub)"
   ]
  },
  {
   "cell_type": "markdown",
   "id": "82d1f101-272d-4559-9ab2-8503eaa244b7",
   "metadata": {},
   "source": [
    "## 1. ¿Que es Git?"
   ]
  },
  {
   "cell_type": "markdown",
   "id": "70c0ed9f-fd42-4f85-a68b-19e5d61caa0f",
   "metadata": {},
   "source": [
    "**Git** es un sistema de control de versiones distribuido, lo que significa que un clon local del proyecto es un repositorio de control de versiones completo. Estos repositorios locales permiten trabajar sin conexión o de forma remota con facilidad. Los desarrolladores confirman un trabajo localmente y a continuación sincronizan la copia del repositorio con la del servidor."
   ]
  },
  {
   "cell_type": "markdown",
   "id": "c3002c35-8850-4a03-9dde-b5835185c8a2",
   "metadata": {},
   "source": [
    "#### - Aspectos básicos"
   ]
  },
  {
   "cell_type": "markdown",
   "id": "76330c6e-c4a9-49f8-9a2b-c470cd8d143c",
   "metadata": {},
   "source": [
    "- Ramas"
   ]
  },
  {
   "cell_type": "markdown",
   "id": "bfe4a843-80b7-4220-a276-a55845a2ef26",
   "metadata": {
    "tags": []
   },
   "source": [
    "Cada desarrollador guarda los cambios en su propio repositorio de código local. Como resultado, puede haber muchos cambios diferentes basados en la misma confirmación. Git proporciona herramientas para aislar los cambios y volver a combinarlos posteriormente."
   ]
  },
  {
   "cell_type": "markdown",
   "id": "e454975e-da7a-44da-bb79-985ddd19af93",
   "metadata": {},
   "source": [
    "![Ramas_Git](Desktop/Archivos para Git/PRIMERA_FOTOGRAFIA.png)"
   ]
  },
  {
   "cell_type": "markdown",
   "id": "f20aafa7-057f-44e1-a7a4-c57d05defbc0",
   "metadata": {},
   "source": [
    "- Archivos y confirmaciones"
   ]
  },
  {
   "cell_type": "markdown",
   "id": "cc777876-f9df-4fd8-87ee-d7d4e04109ec",
   "metadata": {},
   "source": [
    "Los archivos de *Git* se encuentran en uno de estos tres estados: modificados, almacenados provisionalmente o confirmados. Cuando se modifica un archivo por primera vez, los cambios solo existen en el directorio de trabajo. Todavía no forman parte de una confirmación ni del historial de desarrollo. El desarrollador debe almacenar provisionalmente los archivos modificados que se incluirán en la confirmación. El área de almacenamiento provisional contiene todos los cambios que se incluirán en la siguiente confirmación.\n",
    "\n",
    "Una vez que el desarrollador esté satisfecho con los archivos almacenados provisionalmente, los archivos se empaquetan como una confirmación con un mensaje que describe lo que ha cambiado. Esta confirmación pasa a formar parte del historial de desarrollo."
   ]
  },
  {
   "cell_type": "markdown",
   "id": "0c0339d2-a9cf-4d38-a71f-5b440c86ffbf",
   "metadata": {
    "tags": []
   },
   "source": [
    "#### - Ventajas de Git"
   ]
  },
  {
   "cell_type": "markdown",
   "id": "e658c3b6-11e1-4e8a-a6a1-37fe5c3417a6",
   "metadata": {},
   "source": [
    "***Registro Integral y Rastreable:*** Git posibilita la monitorización detallada de cada modificación realizada en el código a lo largo del tiempo. Esto simplifica la identificación de responsables, así como la temporalidad de los cambios, aspectos cruciales para la resolución  de problemas y el mantenimiento de la transparencia en el desarrollo."
   ]
  },
  {
   "cell_type": "markdown",
   "id": "3185ec8a-c779-41a9-9b54-194d5b25ec00",
   "metadata": {},
   "source": [
    "***Colaboración Eficiente y sin Obstáculos:*** Con Git, múltiples desarrolladores pueden colaborar simultáneamente en distintas funcionalidades o soluciones sin entorpecer el trabajo de los demás. Las ramas y fusiones facilitan la colaboración, propiciando una integración continua más suave."
   ]
  },
  {
   "cell_type": "markdown",
   "id": "4be8cc8f-9f5f-4260-821c-8dd293cb4c22",
   "metadata": {},
   "source": [
    "***Retroceso Sencillo y Seguro:*** En situaciones de errores o inconvenientes, Git permite a los desarrolladores revertir a versiones anteriores de forma rápida y segura. Esto minimiza el riesgo de impactos negativos en el proyecto y simplifica la corrección de errores."
   ]
  },
  {
   "cell_type": "markdown",
   "id": "3f8840e2-9a39-43c4-ad18-1c6845ffdf91",
   "metadata": {},
   "source": [
    "***Adaptabilidad en el Flujo de Trabajo :*** Git se ajusta a diversos flujos de trabajo, desde el modelo estándar de ramificación hasta enfoques más avanzados como Gitflow o GitHub Flow. Esto posibilita que los equipos ajusten Git según sus necesidades particulares."
   ]
  },
  {
   "cell_type": "markdown",
   "id": "87b233dc-4b99-41ea-bae3-e9c2842180f3",
   "metadata": {
    "tags": []
   },
   "source": [
    "## 2. ¿Que es GitHub?"
   ]
  },
  {
   "cell_type": "markdown",
   "id": "f7bb624b-f7e5-48d2-b97b-d86085062f20",
   "metadata": {},
   "source": [
    "Es una plataforma online de desarrollo de software que se usa para **almacenar, supervisar y trabajar con proyectos de software.** Facilita el intercambio de archivos de código y trabajar en proyectos colaborativos de código abierto. También funciona como una red profesional, en donde las personas que trabajan en esta área pueden establecer relaciones, colaborar y promover su trabajo."
   ]
  },
  {
   "cell_type": "markdown",
   "id": "e541a2e8-bcc7-4dc3-a1a8-598f6d9826f9",
   "metadata": {},
   "source": [
    "## 3. Markdown"
   ]
  },
  {
   "cell_type": "markdown",
   "id": "e1ae52a5-b140-449e-85d3-7954fb37e11e",
   "metadata": {},
   "source": [
    "***Markdown*** es un lenguaje de marcado sencillo que sirve para agregar formato, vínculos e imágenes con facilidad al texto simple. "
   ]
  },
  {
   "cell_type": "markdown",
   "id": "ca02ee0b-5b2c-430b-914e-eb21ad8fa05e",
   "metadata": {
    "tags": []
   },
   "source": [
    "## 4. Magic Cells "
   ]
  },
  {
   "cell_type": "markdown",
   "id": "1ffcc959-3afa-41cc-90e7-804f6d00877c",
   "metadata": {},
   "source": [
    "Las celdas de código de ***Jupyter Notebook*** pueden contener comandos especiales que no son código Python válido, pero que afectara al comportamiento del libro. Algunos de los comandos más comunes son:"
   ]
  },
  {
   "cell_type": "markdown",
   "id": "863f6542-378f-4a44-ac96-97508815956c",
   "metadata": {
    "tags": []
   },
   "source": [
    "- Ejecución de código"
   ]
  },
  {
   "cell_type": "markdown",
   "id": "b9ad6f51-8a33-477c-bba1-d6e29f473cc9",
   "metadata": {},
   "source": [
    "**%run:** Ejecuta un script de Python.  \n",
    "**%load:** Carga el contenido de un archivo en una celda."
   ]
  },
  {
   "cell_type": "markdown",
   "id": "b1a106e1-08ad-4809-9ad2-4c741f359d33",
   "metadata": {
    "tags": []
   },
   "source": [
    "- Medición de tiempo"
   ]
  },
  {
   "cell_type": "markdown",
   "id": "90050712-a570-42b0-912d-539a07d28d9d",
   "metadata": {},
   "source": [
    "**%timeit:** Mide el tiempo de ejecución de una declaración o función.  \n",
    "**%time:** Mide el tiempo de ejecución de una celda completa.\n"
   ]
  },
  {
   "cell_type": "markdown",
   "id": "afecb561-2017-4aea-a184-108ab9cadbd4",
   "metadata": {},
   "source": [
    "- Visualización de Gráficos"
   ]
  },
  {
   "cell_type": "markdown",
   "id": "47aba3de-e837-47ab-be40-d30734b43767",
   "metadata": {},
   "source": [
    "**%matplotlib inline:** Permite la visualización de gráficos en línea.  \n",
    "**%matplotlib notebook:** Activa la visualización de gráficos interactivos.\n"
   ]
  },
  {
   "cell_type": "markdown",
   "id": "81866bb6-5f96-4d84-b21c-91c696bb1ae5",
   "metadata": {},
   "source": [
    "- Ayuda y Referencias"
   ]
  },
  {
   "cell_type": "markdown",
   "id": "f5f8949a-58ad-40e7-a94b-c6f457afadc1",
   "metadata": {},
   "source": [
    "**%lsmagic:** Muestra todos los comandos mágicos disponibles.  \n",
    "**%quickref:** Muestra una referencia rápida de los comandos mágicos.\n"
   ]
  },
  {
   "cell_type": "markdown",
   "id": "57ca2aa7-ac07-4a91-9302-98b8ea93cb93",
   "metadata": {
    "tags": []
   },
   "source": [
    "- Trabajo con Datos"
   ]
  },
  {
   "cell_type": "markdown",
   "id": "16918881-59fa-476b-9cc9-a9e9a5583468",
   "metadata": {},
   "source": [
    "**%load_ext autoreload:** Recarga automáticamente los módulos antes de ejecutar el código."
   ]
  },
  {
   "cell_type": "markdown",
   "id": "49ae4683-b406-4464-bf77-f57c59007c97",
   "metadata": {},
   "source": [
    "- Extensiones y Módulos"
   ]
  },
  {
   "cell_type": "markdown",
   "id": "724dd573-42bb-439a-ba50-53708109e911",
   "metadata": {},
   "source": [
    "**%load_ext module:** Carga una extensión de IPython.  \n",
    "**%reload_ext module:** Vuelve a cargar una extensión previamente cargada.\n"
   ]
  },
  {
   "cell_type": "code",
   "execution_count": null,
   "id": "9f02729c-0ddb-4831-b664-229c9e5b738b",
   "metadata": {},
   "outputs": [],
   "source": []
  }
 ],
 "metadata": {
  "kernelspec": {
   "display_name": "Python 3 (ipykernel)",
   "language": "python",
   "name": "python3"
  },
  "language_info": {
   "codemirror_mode": {
    "name": "ipython",
    "version": 3
   },
   "file_extension": ".py",
   "mimetype": "text/x-python",
   "name": "python",
   "nbconvert_exporter": "python",
   "pygments_lexer": "ipython3",
   "version": "3.11.5"
  }
 },
 "nbformat": 4,
 "nbformat_minor": 5
}
