{
 "cells": [
  {
   "cell_type": "markdown",
   "id": "57ad459a-f137-4017-a678-dfef3e5d97ce",
   "metadata": {},
   "source": [
    "# Laboratorio Análisis de datos con Python "
   ]
  },
  {
   "cell_type": "markdown",
   "id": "f3066c13-8403-4ad1-822f-067e9c02207a",
   "metadata": {},
   "source": [
    "## Parte 1: Numpy"
   ]
  },
  {
   "cell_type": "code",
   "execution_count": 13,
   "id": "ea5a487a-1861-4bad-bb24-88a10b129d77",
   "metadata": {
    "tags": []
   },
   "outputs": [],
   "source": [
    "import numpy as np"
   ]
  },
  {
   "cell_type": "markdown",
   "id": "5c3cce8d-aff1-40b8-9707-576d5c80326f",
   "metadata": {},
   "source": [
    "#### 1. ¿Cuál es el tamaño en bytes de un array de 1000 elementos de tipo booleano?"
   ]
  },
  {
   "cell_type": "code",
   "execution_count": 14,
   "id": "114812de-5317-44d2-8ece-33378bc5e484",
   "metadata": {
    "tags": []
   },
   "outputs": [
    {
     "name": "stdout",
     "output_type": "stream",
     "text": [
      "El tamaño en bytes es:  1000\n"
     ]
    }
   ],
   "source": [
    "# import numpy as np\n",
    "booleano = np.array([True]*1000, dtype = bool)\n",
    "tamaño = booleano.itemsize * booleano.size\n",
    "print(\"El tamaño en bytes es: \",tamaño)"
   ]
  },
  {
   "cell_type": "markdown",
   "id": "a6a3b257-58da-47e2-91b8-fe6a7201c446",
   "metadata": {},
   "source": [
    "#### 2. Cree un array cuyos elementos sean los enteros pares en [1,100] y en orden decreciente. Muestre los 10 últimos por pantalla."
   ]
  },
  {
   "cell_type": "code",
   "execution_count": 15,
   "id": "a4962cb0-e905-4723-b15a-1d07cb3e2c64",
   "metadata": {
    "tags": []
   },
   "outputs": [
    {
     "name": "stdout",
     "output_type": "stream",
     "text": [
      "los ultimos 10 son [20 18 16 14 12 10  8  6  4  2]\n"
     ]
    }
   ],
   "source": [
    "# import numpy as np\n",
    "array = np.arange(100,0,-2)\n",
    "ultimos_10 = array[-10:]\n",
    "print(\"los ultimos 10 son\",ultimos_10)"
   ]
  },
  {
   "cell_type": "markdown",
   "id": "e61817a7-39b0-4b48-bb99-053dc8c733ae",
   "metadata": {},
   "source": [
    "#### 3. Dado el array\n",
    "    2 4 5 6\n",
    "    0 3 7 4\n",
    "    8 8 5 2\n",
    "    1 5 6 1"
   ]
  },
  {
   "cell_type": "code",
   "execution_count": 17,
   "id": "0d41de95-092a-4626-a0c2-9c08022c56b2",
   "metadata": {
    "tags": []
   },
   "outputs": [
    {
     "name": "stdout",
     "output_type": "stream",
     "text": [
      "[[2 4 5 6]\n",
      " [0 3 7 4]\n",
      " [8 8 5 2]\n",
      " [1 5 6 1]]\n"
     ]
    }
   ],
   "source": [
    "array =np.array([\n",
    "    [2, 4, 5, 6],\n",
    "    [0, 3, 7, 4],\n",
    "    [8, 8, 5, 2],\n",
    "    [1, 5, 6, 1]])\n",
    "print(array)"
   ]
  },
  {
   "cell_type": "markdown",
   "id": "ae4ef9f8-a36b-4055-ac8c-90d59ed1351f",
   "metadata": {},
   "source": [
    "- Seleccione con una instrucción el subarray de elementos  \n",
    "    0 3 7 4"
   ]
  },
  {
   "cell_type": "code",
   "execution_count": 28,
   "id": "6e3d93e5-a00a-417d-b13c-4d1da475a002",
   "metadata": {
    "tags": []
   },
   "outputs": [
    {
     "name": "stdout",
     "output_type": "stream",
     "text": [
      "El primer subarray es:  [0 3 7 4]\n"
     ]
    }
   ],
   "source": [
    "primer_subarray = array[1, 0:5]\n",
    "print(\"El primer subarray es: \", primer_subarray)"
   ]
  },
  {
   "cell_type": "markdown",
   "id": "c9d68c3d-036b-46cb-9949-5239fde1a5a9",
   "metadata": {},
   "source": [
    "- Después, seleccione el subarray de elementos  \n",
    "    2 5  \n",
    "    8 5"
   ]
  },
  {
   "cell_type": "code",
   "execution_count": 47,
   "id": "8c8da735-d20d-45fd-84ce-ab93b48d00ae",
   "metadata": {
    "tags": []
   },
   "outputs": [
    {
     "name": "stdout",
     "output_type": "stream",
     "text": [
      "[2 5] [8 5]\n"
     ]
    }
   ],
   "source": [
    "segundo_subarray = array[2, 1:3]\n",
    "tercer_subarray = array[0, [0,2]]\n",
    "print(tercer_subarray,segundo_subarray)"
   ]
  },
  {
   "cell_type": "markdown",
   "id": "8cfa0f97-7fb4-4d10-a87d-456c77116cb5",
   "metadata": {},
   "source": [
    "#### 4. Dados los arrays a = [1, 4, 2, 7] y b = [1, 3, 2, 9], obtenga la media aritmética de la diferencia (a-b)."
   ]
  },
  {
   "cell_type": "code",
   "execution_count": 50,
   "id": "65d74a1e-2d71-4e68-810a-fef6b4d6fcc5",
   "metadata": {
    "tags": []
   },
   "outputs": [
    {
     "name": "stdout",
     "output_type": "stream",
     "text": [
      "La media de la sustraccion es:  0.25\n"
     ]
    }
   ],
   "source": [
    "a = np.array([1,4,2,7])\n",
    "b = np.array([1,3,2,9])\n",
    "\n",
    "diferencia = a - b\n",
    "media = np.mean(diferencia)\n",
    "\n",
    "print(\"La media de la sustraccion es: \",np.abs(media))"
   ]
  },
  {
   "cell_type": "markdown",
   "id": "8675e451-b020-4031-8ee7-ea21206d992b",
   "metadata": {},
   "source": [
    "#### 5.Tengo valores de cordenadas (x, y) en las columnas del array  \n",
    "    1.33 4.5  \n",
    "    30.0 10.7  \n",
    "    70.2 0.5  \n"
   ]
  },
  {
   "cell_type": "code",
   "execution_count": 52,
   "id": "11e20682-bbb3-4ce8-89b0-81c114ecb356",
   "metadata": {
    "tags": []
   },
   "outputs": [
    {
     "name": "stdout",
     "output_type": "stream",
     "text": [
      "[[ 1.33  4.5 ]\n",
      " [30.   10.7 ]\n",
      " [70.2   0.5 ]]\n"
     ]
    }
   ],
   "source": [
    "coordenadas = np.array([[1.33,4.5],[30,10.7],[70.2,0.5]])\n",
    "print(coordenadas)"
   ]
  },
  {
   "cell_type": "markdown",
   "id": "ff71a092-501d-4340-8814-1908af3f4e00",
   "metadata": {},
   "source": [
    "- Agregue a este array las coordenadas (37.1, -3.6). Muestre en pantalla las dimensiones del nuevo array."
   ]
  },
  {
   "cell_type": "code",
   "execution_count": 58,
   "id": "9fa8bf89-7913-4017-9b9d-1d69b20f9231",
   "metadata": {
    "tags": []
   },
   "outputs": [
    {
     "name": "stdout",
     "output_type": "stream",
     "text": [
      "La coordenada final es:\n",
      "  [[ 1.33  4.5 ]\n",
      " [30.   10.7 ]\n",
      " [70.2   0.5 ]\n",
      " [37.1  -3.6 ]]\n"
     ]
    }
   ],
   "source": [
    "coordenadas_nuevas = np.array([37.1,-3.6])\n",
    "coordenadas_final = np.vstack([coordenadas,coordenadas_nuevas])\n",
    "print(\"La coordenada final es:\\n \", coordenadas_final)"
   ]
  },
  {
   "cell_type": "markdown",
   "id": "75f2f8bc-efc5-4976-b69c-a650736e664f",
   "metadata": {},
   "source": [
    "#### 6.Copie el array del ejercicio anterior. Traspóngalo y Agregue ahora dos nuevos pares de coordenadas: (10.8,3.0) y (35.8, 12.0)."
   ]
  },
  {
   "cell_type": "code",
   "execution_count": 60,
   "id": "64bd3d9a-5ce5-4e5e-b98a-d06841e22301",
   "metadata": {
    "tags": []
   },
   "outputs": [
    {
     "data": {
      "text/plain": [
       "array([[ 1.33, 30.  , 70.2 , 37.1 ],\n",
       "       [ 4.5 , 10.7 ,  0.5 , -3.6 ]])"
      ]
     },
     "execution_count": 60,
     "metadata": {},
     "output_type": "execute_result"
    }
   ],
   "source": [
    "coordenadas_transpuestas = np.transpose(coordenadas_final)\n",
    "print(coordenadas_transpuestas)"
   ]
  },
  {
   "cell_type": "code",
   "execution_count": 70,
   "id": "d074780b-0869-440d-9389-99e3a73052ca",
   "metadata": {
    "tags": []
   },
   "outputs": [
    {
     "name": "stdout",
     "output_type": "stream",
     "text": [
      "La coordenada final transpuesta es:\n",
      " [[ 1.33 30.   70.2  37.1  10.8   3.  ]\n",
      " [ 4.5  10.7   0.5  -3.6  35.8  12.  ]]\n"
     ]
    }
   ],
   "source": [
    "coordenada_nueva = np.array([[10.8,3.0],[35.8,12.0]])\n",
    "coordenadas_final_trans =np.hstack([coordenadas_transpuestas,coordenada_nueva])\n",
    "print(\"La coordenada final transpuesta es:\\n\",coordenadas_final_trans)"
   ]
  },
  {
   "cell_type": "markdown",
   "id": "d5383294-a3e9-43b0-a175-ec901b5e0eec",
   "metadata": {},
   "source": [
    "## Parte 2: Exploración y Minería de Datos"
   ]
  },
  {
   "cell_type": "markdown",
   "id": "4f235f15-6c3c-4014-9c22-65aa3cb1ae28",
   "metadata": {
    "tags": []
   },
   "source": [
    "Con el dataset nucleospoblacion.csv adjunto al laboratorio, luego responda las siguientes preguntas usando pandas y matplotlib."
   ]
  },
  {
   "cell_type": "code",
   "execution_count": 24,
   "id": "a804fb48-c546-4def-b76c-2bbb8fdbb020",
   "metadata": {
    "tags": []
   },
   "outputs": [],
   "source": [
    "# Para importar la libreria una vez\n",
    "import pandas as pd\n",
    "import matplotlib.pyplot as plt"
   ]
  },
  {
   "cell_type": "code",
   "execution_count": 7,
   "id": "e7120752-2ad8-4482-825c-d5617e5c2ffc",
   "metadata": {
    "tags": []
   },
   "outputs": [
    {
     "data": {
      "text/html": [
       "<div>\n",
       "<style scoped>\n",
       "    .dataframe tbody tr th:only-of-type {\n",
       "        vertical-align: middle;\n",
       "    }\n",
       "\n",
       "    .dataframe tbody tr th {\n",
       "        vertical-align: top;\n",
       "    }\n",
       "\n",
       "    .dataframe thead th {\n",
       "        text-align: right;\n",
       "    }\n",
       "</style>\n",
       "<table border=\"1\" class=\"dataframe\">\n",
       "  <thead>\n",
       "    <tr style=\"text-align: right;\">\n",
       "      <th></th>\n",
       "      <th>FID</th>\n",
       "      <th>OBJECTID</th>\n",
       "      <th>Texto</th>\n",
       "      <th>Poblacion</th>\n",
       "      <th>CodMun</th>\n",
       "      <th>Municipio</th>\n",
       "      <th>CodProvin</th>\n",
       "      <th>Provincia</th>\n",
       "      <th>X</th>\n",
       "      <th>Y</th>\n",
       "    </tr>\n",
       "  </thead>\n",
       "  <tbody>\n",
       "    <tr>\n",
       "      <th>0</th>\n",
       "      <td>0</td>\n",
       "      <td>1</td>\n",
       "      <td>Agüimes</td>\n",
       "      <td>29431.0</td>\n",
       "      <td>35002</td>\n",
       "      <td>Agüimes</td>\n",
       "      <td>35</td>\n",
       "      <td>Las Palmas</td>\n",
       "      <td>-15.446012</td>\n",
       "      <td>27.900542</td>\n",
       "    </tr>\n",
       "    <tr>\n",
       "      <th>1</th>\n",
       "      <td>1</td>\n",
       "      <td>2</td>\n",
       "      <td>Antigua</td>\n",
       "      <td>10458.0</td>\n",
       "      <td>35003</td>\n",
       "      <td>Antigua</td>\n",
       "      <td>35</td>\n",
       "      <td>Las Palmas</td>\n",
       "      <td>-14.013301</td>\n",
       "      <td>28.418966</td>\n",
       "    </tr>\n",
       "    <tr>\n",
       "      <th>2</th>\n",
       "      <td>2</td>\n",
       "      <td>3</td>\n",
       "      <td>Arrecife</td>\n",
       "      <td>58156.0</td>\n",
       "      <td>35004</td>\n",
       "      <td>Arrecife</td>\n",
       "      <td>35</td>\n",
       "      <td>Las Palmas</td>\n",
       "      <td>-13.551451</td>\n",
       "      <td>28.960649</td>\n",
       "    </tr>\n",
       "    <tr>\n",
       "      <th>3</th>\n",
       "      <td>3</td>\n",
       "      <td>4</td>\n",
       "      <td>Arucas</td>\n",
       "      <td>36745.0</td>\n",
       "      <td>35006</td>\n",
       "      <td>Arucas</td>\n",
       "      <td>35</td>\n",
       "      <td>Las Palmas</td>\n",
       "      <td>-15.521512</td>\n",
       "      <td>28.117496</td>\n",
       "    </tr>\n",
       "    <tr>\n",
       "      <th>4</th>\n",
       "      <td>4</td>\n",
       "      <td>5</td>\n",
       "      <td>Gáldar</td>\n",
       "      <td>24473.0</td>\n",
       "      <td>35009</td>\n",
       "      <td>Gáldar</td>\n",
       "      <td>35</td>\n",
       "      <td>Las Palmas</td>\n",
       "      <td>-15.654111</td>\n",
       "      <td>28.143873</td>\n",
       "    </tr>\n",
       "    <tr>\n",
       "      <th>...</th>\n",
       "      <td>...</td>\n",
       "      <td>...</td>\n",
       "      <td>...</td>\n",
       "      <td>...</td>\n",
       "      <td>...</td>\n",
       "      <td>...</td>\n",
       "      <td>...</td>\n",
       "      <td>...</td>\n",
       "      <td>...</td>\n",
       "      <td>...</td>\n",
       "    </tr>\n",
       "    <tr>\n",
       "      <th>847</th>\n",
       "      <td>847</td>\n",
       "      <td>848</td>\n",
       "      <td>Infante Juan Manuel</td>\n",
       "      <td>14192.0</td>\n",
       "      <td>30030</td>\n",
       "      <td>Murcia</td>\n",
       "      <td>30</td>\n",
       "      <td>Murcia</td>\n",
       "      <td>-1.124304</td>\n",
       "      <td>37.979033</td>\n",
       "    </tr>\n",
       "    <tr>\n",
       "      <th>848</th>\n",
       "      <td>848</td>\n",
       "      <td>849</td>\n",
       "      <td>Santa Maria de Gracia</td>\n",
       "      <td>13349.0</td>\n",
       "      <td>30030</td>\n",
       "      <td>Murcia</td>\n",
       "      <td>30</td>\n",
       "      <td>Murcia</td>\n",
       "      <td>-1.202069</td>\n",
       "      <td>37.984024</td>\n",
       "    </tr>\n",
       "    <tr>\n",
       "      <th>849</th>\n",
       "      <td>849</td>\n",
       "      <td>850</td>\n",
       "      <td>Vista Alegre</td>\n",
       "      <td>15208.0</td>\n",
       "      <td>30030</td>\n",
       "      <td>Murcia</td>\n",
       "      <td>30</td>\n",
       "      <td>Murcia</td>\n",
       "      <td>-1.130564</td>\n",
       "      <td>37.995715</td>\n",
       "    </tr>\n",
       "    <tr>\n",
       "      <th>850</th>\n",
       "      <td>850</td>\n",
       "      <td>851</td>\n",
       "      <td>Poligono Sta M de Benquerencia</td>\n",
       "      <td>19177.0</td>\n",
       "      <td>45168</td>\n",
       "      <td>Toledo</td>\n",
       "      <td>45</td>\n",
       "      <td>Toledo</td>\n",
       "      <td>-3.948364</td>\n",
       "      <td>39.866699</td>\n",
       "    </tr>\n",
       "    <tr>\n",
       "      <th>851</th>\n",
       "      <td>851</td>\n",
       "      <td>852</td>\n",
       "      <td>Grao</td>\n",
       "      <td>16367.0</td>\n",
       "      <td>12040</td>\n",
       "      <td>Castellón de la Plana/Castelló de la Plana</td>\n",
       "      <td>12</td>\n",
       "      <td>Castelló/Castellón</td>\n",
       "      <td>0.012911</td>\n",
       "      <td>39.973568</td>\n",
       "    </tr>\n",
       "  </tbody>\n",
       "</table>\n",
       "<p>852 rows × 10 columns</p>\n",
       "</div>"
      ],
      "text/plain": [
       "     FID  OBJECTID                           Texto  Poblacion  CodMun  \\\n",
       "0      0         1                         Agüimes    29431.0   35002   \n",
       "1      1         2                         Antigua    10458.0   35003   \n",
       "2      2         3                        Arrecife    58156.0   35004   \n",
       "3      3         4                          Arucas    36745.0   35006   \n",
       "4      4         5                          Gáldar    24473.0   35009   \n",
       "..   ...       ...                             ...        ...     ...   \n",
       "847  847       848             Infante Juan Manuel    14192.0   30030   \n",
       "848  848       849           Santa Maria de Gracia    13349.0   30030   \n",
       "849  849       850                    Vista Alegre    15208.0   30030   \n",
       "850  850       851  Poligono Sta M de Benquerencia    19177.0   45168   \n",
       "851  851       852                            Grao    16367.0   12040   \n",
       "\n",
       "                                      Municipio  CodProvin  \\\n",
       "0                                       Agüimes         35   \n",
       "1                                       Antigua         35   \n",
       "2                                      Arrecife         35   \n",
       "3                                        Arucas         35   \n",
       "4                                        Gáldar         35   \n",
       "..                                          ...        ...   \n",
       "847                                      Murcia         30   \n",
       "848                                      Murcia         30   \n",
       "849                                      Murcia         30   \n",
       "850                                      Toledo         45   \n",
       "851  Castellón de la Plana/Castelló de la Plana         12   \n",
       "\n",
       "              Provincia          X          Y  \n",
       "0            Las Palmas -15.446012  27.900542  \n",
       "1            Las Palmas -14.013301  28.418966  \n",
       "2            Las Palmas -13.551451  28.960649  \n",
       "3            Las Palmas -15.521512  28.117496  \n",
       "4            Las Palmas -15.654111  28.143873  \n",
       "..                  ...        ...        ...  \n",
       "847              Murcia  -1.124304  37.979033  \n",
       "848              Murcia  -1.202069  37.984024  \n",
       "849              Murcia  -1.130564  37.995715  \n",
       "850              Toledo  -3.948364  39.866699  \n",
       "851  Castelló/Castellón   0.012911  39.973568  \n",
       "\n",
       "[852 rows x 10 columns]"
      ]
     },
     "execution_count": 7,
     "metadata": {},
     "output_type": "execute_result"
    }
   ],
   "source": [
    "nucleos_poblacion = pd.read_csv(\"D:/MAESTRIA CIENCIA DE DATOS/1. CIENCIA DE DATOS EN PHYTON/Lab3/NucleosPoblacion.csv\")\n",
    "nucleos_poblacion"
   ]
  },
  {
   "cell_type": "markdown",
   "id": "be06ed85-f898-4414-b989-6e6036051044",
   "metadata": {},
   "source": [
    "#### 1. ¿Cuántos Municipios tienen más de 100000 habitantes?."
   ]
  },
  {
   "cell_type": "code",
   "execution_count": 90,
   "id": "dbb30710-46d4-41d6-a792-778f6b106105",
   "metadata": {
    "tags": []
   },
   "outputs": [
    {
     "name": "stdout",
     "output_type": "stream",
     "text": [
      "La cantdad de municipios con poblacion mayor a 100,000 personas son:  62\n"
     ]
    }
   ],
   "source": [
    "muni_mayo_1000 = nucleos_poblacion[nucleos_poblacion['Poblacion'] > 100000]\n",
    "poblacion_municipio = muni_mayo_1000.groupby('Municipio')['Poblacion'].sum()\n",
    "cantidad_muni_mayo_1000 = len(poblacion_municipio)\n",
    "print(\"La cantdad de municipios con poblacion mayor a 100,000 personas son: \" ,cantidad_muni_mayo_1000)"
   ]
  },
  {
   "cell_type": "markdown",
   "id": "4df1c3a7-21a7-4bd4-8f27-b56955c016d1",
   "metadata": {},
   "source": [
    "#### 2. Realice una gráfica de barras sobre la población de cada ciudad, ordenela de menor a mayo y responda:"
   ]
  },
  {
   "cell_type": "code",
   "execution_count": 98,
   "id": "f3f603a4-8117-4f6b-8207-ce613bf558b1",
   "metadata": {
    "tags": []
   },
   "outputs": [
    {
     "data": {
      "image/png": "[encoded data removed]",
      "text/plain": [
       "<Figure size 640x480 with 1 Axes>"
      ]
     },
     "metadata": {},
     "output_type": "display_data"
    }
   ],
   "source": [
    "poblacion_ciudad = nucleos_poblacion.groupby('Provincia')['Poblacion'].sum()\n",
    "data_ordenada = poblacion_ciudad.sort_values(ascending=False)\n",
    "top20 = data_ordenada.nlargest(20)\n",
    "top20.plot(x='Provincia', y='Poblacion',kind='bar',color = 'black')\n",
    "plt.xlabel('Ciudad')\n",
    "plt.ylabel('Población')\n",
    "plt.title('Top 20 de ciudades por población')\n",
    "plt.show()"
   ]
  },
  {
   "cell_type": "markdown",
   "id": "6491da6d-e341-4a54-94ba-e548bd902e62",
   "metadata": {},
   "source": [
    "- a. ¿Cuál es la segunda ciudad más poblada?"
   ]
  },
  {
   "cell_type": "markdown",
   "id": "a9455538-f327-4ecf-bc8f-acf335c7ba9c",
   "metadata": {
    "tags": []
   },
   "source": [
    "La ciudad mas poblada es **Madrid**"
   ]
  },
  {
   "cell_type": "markdown",
   "id": "2b48af34-0d3a-4369-bb8a-246a37f39b7e",
   "metadata": {},
   "source": [
    "- b.¿Qué posición ocupa Granada en el ranking de las ciudades más pobladas?"
   ]
  },
  {
   "cell_type": "markdown",
   "id": "af43c234-c79b-4345-b17b-95edc5520cef",
   "metadata": {},
   "source": [
    "**Granada** ocupa el **Top 17** de las ciudades mas pobladas"
   ]
  },
  {
   "cell_type": "markdown",
   "id": "8f461704-8794-4f5b-bf14-13ba9e110c70",
   "metadata": {},
   "source": [
    "#### 3. ¿Cuántos municipios de Extremadura tienen más de 5000 habitantes?."
   ]
  },
  {
   "cell_type": "markdown",
   "id": "257f0807-847f-4cb5-8843-7962676c0f86",
   "metadata": {},
   "source": [
    "#### 4. ¿Cuál es el municipio situado más al Norte? (Usar elvalor de la coordenada \"Y\" que representa la latitud en grados). Proporcione también la provincia a la que pertenece y su población."
   ]
  },
  {
   "cell_type": "code",
   "execution_count": 127,
   "id": "10ed8c0f-dd80-4fb8-87e9-1ff9294e4671",
   "metadata": {
    "tags": []
   },
   "outputs": [
    {
     "name": "stdout",
     "output_type": "stream",
     "text": [
      "El municipio ubicado mas al norte es Viveiro y se ubica en la provincia de Lugo cuya poblacion es de 162422.0 habitantes\n"
     ]
    }
   ],
   "source": [
    "municipio_norte = nucleos_poblacion['Y'].idxmax()\n",
    "nombre_municipio = nucleos_poblacion.loc[municipio_norte,'Municipio']\n",
    "nombre_provincia = nucleos_poblacion.loc[municipio_norte,'Provincia']\n",
    "\n",
    "poblacion_ciudad = nucleos_poblacion.groupby('Provincia')['Poblacion'].sum()\n",
    "poblacion_provincia = poblacion_ciudad.get(nombre_provincia)\n",
    "print(f\"El municipio ubicado mas al norte es {nombre_municipio} y se ubica en la provincia de {nombre_provincia} cuya poblacion es de {poblacion_provincia} habitantes\")"
   ]
  },
  {
   "cell_type": "markdown",
   "id": "b1f615cc-ba38-45f4-abdb-bef0ab540019",
   "metadata": {},
   "source": [
    "#### 5. Obtenga la media, mediana, desviación estándar, valor máximo y valor mínimo de la población de los municipios de la provincia de Granada."
   ]
  },
  {
   "cell_type": "code",
   "execution_count": 146,
   "id": "68982c0a-0b7d-4730-8a7a-143fd32aedfd",
   "metadata": {
    "tags": []
   },
   "outputs": [
    {
     "name": "stdout",
     "output_type": "stream",
     "text": [
      "La media de la poblacion de los municipios de Granda es de 30217.85\n",
      "La mediana de la poblacion de los municipios de Granda es de 17526.0\n",
      "La desviacion estandar de la poblacion de los municipios de Granda es de 50355.49\n",
      "El valor maximo de la poblacion de los municipios de Granda es de 239154.0\n",
      "El valor maximo de la poblacion de los municipios de Granda es de 10386.0\n"
     ]
    }
   ],
   "source": [
    "provincia_granada = nucleos_poblacion.loc[nucleos_poblacion['Provincia'] == 'Granada']\n",
    "media_granada = provincia_granada['Poblacion'].mean()\n",
    "mediana_granada = provincia_granada['Poblacion'].median()\n",
    "desves_granada = provincia_granada['Poblacion'].std()\n",
    "maximo_granada = provincia_granada['Poblacion'].max()\n",
    "minimo_granada = provincia_granada['Poblacion'].min()\n",
    "print(f\"La media de la poblacion de los municipios de Granda es de {media_granada}\")\n",
    "print(f\"La mediana de la poblacion de los municipios de Granda es de {mediana_granada}\")\n",
    "print(f\"La desviacion estandar de la poblacion de los municipios de Granda es de {round(desves_granada,2)}\")\n",
    "print(f\"El valor maximo de la poblacion de los municipios de Granda es de {maximo_granada}\")\n",
    "print(f\"El valor maximo de la poblacion de los municipios de Granda es de {minimo_granada}\")\n"
   ]
  },
  {
   "cell_type": "markdown",
   "id": "9305c6fb-75bf-4695-87af-9f539bd88c4c",
   "metadata": {},
   "source": [
    "#### 6. Realice un histograma con la población de los Municipios para cada una de las provincias"
   ]
  },
  {
   "cell_type": "code",
   "execution_count": 56,
   "id": "31121f8b-d928-4621-9821-7912f8f355e0",
   "metadata": {
    "tags": []
   },
   "outputs": [
    {
     "data": {
      "image/png": "[encoded data removed]",
      "text/plain": [
       "<Figure size 1000x500 with 1 Axes>"
      ]
     },
     "metadata": {},
     "output_type": "display_data"
    }
   ],
   "source": [
    "poblacion_provincia = nucleos_poblacion.groupby(['Provincia'])['Poblacion'].sum()\n",
    "data_ordenada = poblacion_provincia.sort_values(ascending=False)\n",
    "data_ordenada\n",
    "\n",
    "fig, ax = plt.subplots(figsize=(10, 5))\n",
    "\n",
    "ax.hist(data_ordenada, bins=20, color='blue', edgecolor='black')\n",
    "ax.set_title('Histograma de Población por Provincia')\n",
    "ax.set_xlabel('Población')\n",
    "ax.set_ylabel('Frecuencia')\n",
    "\n",
    "plt.tight_layout()\n",
    "plt.show()"
   ]
  },
  {
   "cell_type": "markdown",
   "id": "beaeb74b-5490-45b9-b881-0161cbc6fed1",
   "metadata": {},
   "source": [
    "#### 7. Seleccione al azar cincuenta municipios diferentes de entre los diponibles en el archivo. Asegúrese de que no se repitan. ¿Luego calcule el promedio de la población y la desviación estándar de esto 50 municipios?."
   ]
  },
  {
   "cell_type": "code",
   "execution_count": 15,
   "id": "0540eea5-3ea7-45a7-9ba7-d5ba9c1c578a",
   "metadata": {
    "tags": []
   },
   "outputs": [
    {
     "data": {
      "text/html": [
       "<div>\n",
       "<style scoped>\n",
       "    .dataframe tbody tr th:only-of-type {\n",
       "        vertical-align: middle;\n",
       "    }\n",
       "\n",
       "    .dataframe tbody tr th {\n",
       "        vertical-align: top;\n",
       "    }\n",
       "\n",
       "    .dataframe thead th {\n",
       "        text-align: right;\n",
       "    }\n",
       "</style>\n",
       "<table border=\"1\" class=\"dataframe\">\n",
       "  <thead>\n",
       "    <tr style=\"text-align: right;\">\n",
       "      <th></th>\n",
       "      <th>Municipio</th>\n",
       "      <th>Poblacion</th>\n",
       "    </tr>\n",
       "  </thead>\n",
       "  <tbody>\n",
       "    <tr>\n",
       "      <th>0</th>\n",
       "      <td>Segovia</td>\n",
       "      <td>55748.0</td>\n",
       "    </tr>\n",
       "    <tr>\n",
       "      <th>1</th>\n",
       "      <td>Meco</td>\n",
       "      <td>12580.0</td>\n",
       "    </tr>\n",
       "    <tr>\n",
       "      <th>2</th>\n",
       "      <td>Tomiño</td>\n",
       "      <td>13492.0</td>\n",
       "    </tr>\n",
       "    <tr>\n",
       "      <th>3</th>\n",
       "      <td>Aguilar de la Frontera</td>\n",
       "      <td>13693.0</td>\n",
       "    </tr>\n",
       "    <tr>\n",
       "      <th>4</th>\n",
       "      <td>Arrasate/Mondragón</td>\n",
       "      <td>22011.0</td>\n",
       "    </tr>\n",
       "    <tr>\n",
       "      <th>5</th>\n",
       "      <td>Ripoll</td>\n",
       "      <td>10991.0</td>\n",
       "    </tr>\n",
       "    <tr>\n",
       "      <th>6</th>\n",
       "      <td>Alcobendas</td>\n",
       "      <td>110080.0</td>\n",
       "    </tr>\n",
       "    <tr>\n",
       "      <th>7</th>\n",
       "      <td>La Roda</td>\n",
       "      <td>16299.0</td>\n",
       "    </tr>\n",
       "    <tr>\n",
       "      <th>8</th>\n",
       "      <td>Carlet</td>\n",
       "      <td>15606.0</td>\n",
       "    </tr>\n",
       "    <tr>\n",
       "      <th>9</th>\n",
       "      <td>Tarragona</td>\n",
       "      <td>179764.0</td>\n",
       "    </tr>\n",
       "    <tr>\n",
       "      <th>10</th>\n",
       "      <td>Bembibre</td>\n",
       "      <td>10097.0</td>\n",
       "    </tr>\n",
       "    <tr>\n",
       "      <th>11</th>\n",
       "      <td>Zarautz</td>\n",
       "      <td>22658.0</td>\n",
       "    </tr>\n",
       "    <tr>\n",
       "      <th>12</th>\n",
       "      <td>Pinos Puente</td>\n",
       "      <td>13421.0</td>\n",
       "    </tr>\n",
       "    <tr>\n",
       "      <th>13</th>\n",
       "      <td>Vallirana</td>\n",
       "      <td>14200.0</td>\n",
       "    </tr>\n",
       "    <tr>\n",
       "      <th>14</th>\n",
       "      <td>Villanueva de la Serena</td>\n",
       "      <td>26111.0</td>\n",
       "    </tr>\n",
       "    <tr>\n",
       "      <th>15</th>\n",
       "      <td>Albolote</td>\n",
       "      <td>17637.0</td>\n",
       "    </tr>\n",
       "    <tr>\n",
       "      <th>16</th>\n",
       "      <td>Tegueste</td>\n",
       "      <td>10731.0</td>\n",
       "    </tr>\n",
       "    <tr>\n",
       "      <th>17</th>\n",
       "      <td>Tomelloso</td>\n",
       "      <td>38641.0</td>\n",
       "    </tr>\n",
       "    <tr>\n",
       "      <th>18</th>\n",
       "      <td>Paracuellos de Jarama</td>\n",
       "      <td>16219.0</td>\n",
       "    </tr>\n",
       "    <tr>\n",
       "      <th>19</th>\n",
       "      <td>Llíria</td>\n",
       "      <td>22997.0</td>\n",
       "    </tr>\n",
       "    <tr>\n",
       "      <th>20</th>\n",
       "      <td>Torredembarra</td>\n",
       "      <td>15406.0</td>\n",
       "    </tr>\n",
       "    <tr>\n",
       "      <th>21</th>\n",
       "      <td>Illescas</td>\n",
       "      <td>22482.0</td>\n",
       "    </tr>\n",
       "    <tr>\n",
       "      <th>22</th>\n",
       "      <td>San Pedro del Pinatar</td>\n",
       "      <td>23903.0</td>\n",
       "    </tr>\n",
       "    <tr>\n",
       "      <th>23</th>\n",
       "      <td>Jódar</td>\n",
       "      <td>12117.0</td>\n",
       "    </tr>\n",
       "    <tr>\n",
       "      <th>24</th>\n",
       "      <td>Carballo</td>\n",
       "      <td>31149.0</td>\n",
       "    </tr>\n",
       "    <tr>\n",
       "      <th>25</th>\n",
       "      <td>Figueres</td>\n",
       "      <td>44255.0</td>\n",
       "    </tr>\n",
       "    <tr>\n",
       "      <th>26</th>\n",
       "      <td>Valdepeñas</td>\n",
       "      <td>31370.0</td>\n",
       "    </tr>\n",
       "    <tr>\n",
       "      <th>27</th>\n",
       "      <td>León</td>\n",
       "      <td>134012.0</td>\n",
       "    </tr>\n",
       "    <tr>\n",
       "      <th>28</th>\n",
       "      <td>Arcos de la Frontera</td>\n",
       "      <td>31449.0</td>\n",
       "    </tr>\n",
       "    <tr>\n",
       "      <th>29</th>\n",
       "      <td>Los Barrios</td>\n",
       "      <td>22587.0</td>\n",
       "    </tr>\n",
       "    <tr>\n",
       "      <th>30</th>\n",
       "      <td>Guadarrama</td>\n",
       "      <td>15155.0</td>\n",
       "    </tr>\n",
       "    <tr>\n",
       "      <th>31</th>\n",
       "      <td>Sant Feliu de Guíxols</td>\n",
       "      <td>21975.0</td>\n",
       "    </tr>\n",
       "    <tr>\n",
       "      <th>32</th>\n",
       "      <td>Mieres</td>\n",
       "      <td>43688.0</td>\n",
       "    </tr>\n",
       "    <tr>\n",
       "      <th>33</th>\n",
       "      <td>Arroyomolinos</td>\n",
       "      <td>16207.0</td>\n",
       "    </tr>\n",
       "    <tr>\n",
       "      <th>34</th>\n",
       "      <td>San Fernando de Henares</td>\n",
       "      <td>41384.0</td>\n",
       "    </tr>\n",
       "    <tr>\n",
       "      <th>35</th>\n",
       "      <td>Ribeira</td>\n",
       "      <td>27504.0</td>\n",
       "    </tr>\n",
       "    <tr>\n",
       "      <th>36</th>\n",
       "      <td>Don Benito</td>\n",
       "      <td>36227.0</td>\n",
       "    </tr>\n",
       "    <tr>\n",
       "      <th>37</th>\n",
       "      <td>Egüés</td>\n",
       "      <td>14354.0</td>\n",
       "    </tr>\n",
       "    <tr>\n",
       "      <th>38</th>\n",
       "      <td>Santiago de Compostela</td>\n",
       "      <td>94824.0</td>\n",
       "    </tr>\n",
       "    <tr>\n",
       "      <th>39</th>\n",
       "      <td>Tàrrega</td>\n",
       "      <td>17189.0</td>\n",
       "    </tr>\n",
       "    <tr>\n",
       "      <th>40</th>\n",
       "      <td>Rianxo</td>\n",
       "      <td>11826.0</td>\n",
       "    </tr>\n",
       "    <tr>\n",
       "      <th>41</th>\n",
       "      <td>Argentona</td>\n",
       "      <td>11718.0</td>\n",
       "    </tr>\n",
       "    <tr>\n",
       "      <th>42</th>\n",
       "      <td>El Rosario</td>\n",
       "      <td>17417.0</td>\n",
       "    </tr>\n",
       "    <tr>\n",
       "      <th>43</th>\n",
       "      <td>O Grove</td>\n",
       "      <td>11297.0</td>\n",
       "    </tr>\n",
       "    <tr>\n",
       "      <th>44</th>\n",
       "      <td>Yecla</td>\n",
       "      <td>34945.0</td>\n",
       "    </tr>\n",
       "    <tr>\n",
       "      <th>45</th>\n",
       "      <td>Bilbao</td>\n",
       "      <td>353187.0</td>\n",
       "    </tr>\n",
       "    <tr>\n",
       "      <th>46</th>\n",
       "      <td>Talavera de la Reina</td>\n",
       "      <td>88986.0</td>\n",
       "    </tr>\n",
       "    <tr>\n",
       "      <th>47</th>\n",
       "      <td>El Masnou</td>\n",
       "      <td>22536.0</td>\n",
       "    </tr>\n",
       "    <tr>\n",
       "      <th>48</th>\n",
       "      <td>Nerja</td>\n",
       "      <td>21957.0</td>\n",
       "    </tr>\n",
       "    <tr>\n",
       "      <th>49</th>\n",
       "      <td>Mungia</td>\n",
       "      <td>16527.0</td>\n",
       "    </tr>\n",
       "  </tbody>\n",
       "</table>\n",
       "</div>"
      ],
      "text/plain": [
       "                  Municipio  Poblacion\n",
       "0                   Segovia    55748.0\n",
       "1                      Meco    12580.0\n",
       "2                    Tomiño    13492.0\n",
       "3    Aguilar de la Frontera    13693.0\n",
       "4        Arrasate/Mondragón    22011.0\n",
       "5                    Ripoll    10991.0\n",
       "6                Alcobendas   110080.0\n",
       "7                   La Roda    16299.0\n",
       "8                    Carlet    15606.0\n",
       "9                 Tarragona   179764.0\n",
       "10                 Bembibre    10097.0\n",
       "11                  Zarautz    22658.0\n",
       "12             Pinos Puente    13421.0\n",
       "13                Vallirana    14200.0\n",
       "14  Villanueva de la Serena    26111.0\n",
       "15                 Albolote    17637.0\n",
       "16                 Tegueste    10731.0\n",
       "17                Tomelloso    38641.0\n",
       "18    Paracuellos de Jarama    16219.0\n",
       "19                   Llíria    22997.0\n",
       "20            Torredembarra    15406.0\n",
       "21                 Illescas    22482.0\n",
       "22    San Pedro del Pinatar    23903.0\n",
       "23                    Jódar    12117.0\n",
       "24                 Carballo    31149.0\n",
       "25                 Figueres    44255.0\n",
       "26               Valdepeñas    31370.0\n",
       "27                     León   134012.0\n",
       "28     Arcos de la Frontera    31449.0\n",
       "29              Los Barrios    22587.0\n",
       "30               Guadarrama    15155.0\n",
       "31    Sant Feliu de Guíxols    21975.0\n",
       "32                   Mieres    43688.0\n",
       "33            Arroyomolinos    16207.0\n",
       "34  San Fernando de Henares    41384.0\n",
       "35                  Ribeira    27504.0\n",
       "36               Don Benito    36227.0\n",
       "37                    Egüés    14354.0\n",
       "38   Santiago de Compostela    94824.0\n",
       "39                  Tàrrega    17189.0\n",
       "40                   Rianxo    11826.0\n",
       "41                Argentona    11718.0\n",
       "42               El Rosario    17417.0\n",
       "43                  O Grove    11297.0\n",
       "44                    Yecla    34945.0\n",
       "45                   Bilbao   353187.0\n",
       "46     Talavera de la Reina    88986.0\n",
       "47                El Masnou    22536.0\n",
       "48                    Nerja    21957.0\n",
       "49                   Mungia    16527.0"
      ]
     },
     "execution_count": 15,
     "metadata": {},
     "output_type": "execute_result"
    }
   ],
   "source": [
    "municipios = nucleos_poblacion['Municipio'].unique()\n",
    "poblacion_municipio = nucleos_poblacion.groupby('Municipio')['Poblacion'].sum()\n",
    "municipios_alazar = pd.DataFrame({'Municipio': pd.Series(municipios).sample(n=50, random_state=42)})\n",
    "mun_pobla = pd.merge(municipios_alazar, poblacion_municipio, on='Municipio', how='left')\n",
    "mun_pobla"
   ]
  },
  {
   "cell_type": "code",
   "execution_count": 20,
   "id": "e64ae309-533f-49fa-8ed2-e0265984061f",
   "metadata": {
    "tags": []
   },
   "outputs": [
    {
     "name": "stdout",
     "output_type": "stream",
     "text": [
      "la media poblacional es de: 38612.18 y la desviacion estandar es de: 56400.65\n"
     ]
    }
   ],
   "source": [
    "media_rdm = mun_pobla['Poblacion'].mean()\n",
    "desves_rdm = mun_pobla['Poblacion'].std()\n",
    "print(f\"la media poblacional es de: {media_rdm} y la desviacion estandar es de: {round(desves_rdm,2)}\")"
   ]
  },
  {
   "cell_type": "markdown",
   "id": "02511143-db5b-46e0-8a42-a7be894c6724",
   "metadata": {},
   "source": [
    "#### 8. Determine los nombres de los Municipios más cercano y más lejano a Madrid. Para ello debe calcular la distancia en todos ellos y Madrid. No considere a Madrid en el análisis ya que la distancia sería cero."
   ]
  },
  {
   "cell_type": "code",
   "execution_count": 40,
   "id": "81bca5fe-58fc-47ee-b52a-0a016136276e",
   "metadata": {
    "tags": []
   },
   "outputs": [
    {
     "data": {
      "text/html": [
       "<div>\n",
       "<style scoped>\n",
       "    .dataframe tbody tr th:only-of-type {\n",
       "        vertical-align: middle;\n",
       "    }\n",
       "\n",
       "    .dataframe tbody tr th {\n",
       "        vertical-align: top;\n",
       "    }\n",
       "\n",
       "    .dataframe thead th {\n",
       "        text-align: right;\n",
       "    }\n",
       "</style>\n",
       "<table border=\"1\" class=\"dataframe\">\n",
       "  <thead>\n",
       "    <tr style=\"text-align: right;\">\n",
       "      <th></th>\n",
       "      <th>FID</th>\n",
       "      <th>OBJECTID</th>\n",
       "      <th>Texto</th>\n",
       "      <th>Poblacion</th>\n",
       "      <th>CodMun</th>\n",
       "      <th>Municipio</th>\n",
       "      <th>CodProvin</th>\n",
       "      <th>Provincia</th>\n",
       "      <th>X</th>\n",
       "      <th>Y</th>\n",
       "      <th>Distancia a Madrid</th>\n",
       "    </tr>\n",
       "  </thead>\n",
       "  <tbody>\n",
       "    <tr>\n",
       "      <th>0</th>\n",
       "      <td>0</td>\n",
       "      <td>1</td>\n",
       "      <td>Agüimes</td>\n",
       "      <td>29431.0</td>\n",
       "      <td>35002</td>\n",
       "      <td>Agüimes</td>\n",
       "      <td>35</td>\n",
       "      <td>Las Palmas</td>\n",
       "      <td>-15.446012</td>\n",
       "      <td>27.900542</td>\n",
       "      <td>2700.434332</td>\n",
       "    </tr>\n",
       "    <tr>\n",
       "      <th>1</th>\n",
       "      <td>1</td>\n",
       "      <td>2</td>\n",
       "      <td>Antigua</td>\n",
       "      <td>10458.0</td>\n",
       "      <td>35003</td>\n",
       "      <td>Antigua</td>\n",
       "      <td>35</td>\n",
       "      <td>Las Palmas</td>\n",
       "      <td>-14.013301</td>\n",
       "      <td>28.418966</td>\n",
       "      <td>2483.233898</td>\n",
       "    </tr>\n",
       "    <tr>\n",
       "      <th>2</th>\n",
       "      <td>2</td>\n",
       "      <td>3</td>\n",
       "      <td>Arrecife</td>\n",
       "      <td>58156.0</td>\n",
       "      <td>35004</td>\n",
       "      <td>Arrecife</td>\n",
       "      <td>35</td>\n",
       "      <td>Las Palmas</td>\n",
       "      <td>-13.551451</td>\n",
       "      <td>28.960649</td>\n",
       "      <td>2371.520628</td>\n",
       "    </tr>\n",
       "    <tr>\n",
       "      <th>3</th>\n",
       "      <td>3</td>\n",
       "      <td>4</td>\n",
       "      <td>Arucas</td>\n",
       "      <td>36745.0</td>\n",
       "      <td>35006</td>\n",
       "      <td>Arucas</td>\n",
       "      <td>35</td>\n",
       "      <td>Las Palmas</td>\n",
       "      <td>-15.521512</td>\n",
       "      <td>28.117496</td>\n",
       "      <td>2684.687557</td>\n",
       "    </tr>\n",
       "    <tr>\n",
       "      <th>4</th>\n",
       "      <td>4</td>\n",
       "      <td>5</td>\n",
       "      <td>Gáldar</td>\n",
       "      <td>24473.0</td>\n",
       "      <td>35009</td>\n",
       "      <td>Gáldar</td>\n",
       "      <td>35</td>\n",
       "      <td>Las Palmas</td>\n",
       "      <td>-15.654111</td>\n",
       "      <td>28.143873</td>\n",
       "      <td>2696.512289</td>\n",
       "    </tr>\n",
       "    <tr>\n",
       "      <th>...</th>\n",
       "      <td>...</td>\n",
       "      <td>...</td>\n",
       "      <td>...</td>\n",
       "      <td>...</td>\n",
       "      <td>...</td>\n",
       "      <td>...</td>\n",
       "      <td>...</td>\n",
       "      <td>...</td>\n",
       "      <td>...</td>\n",
       "      <td>...</td>\n",
       "      <td>...</td>\n",
       "    </tr>\n",
       "    <tr>\n",
       "      <th>847</th>\n",
       "      <td>847</td>\n",
       "      <td>848</td>\n",
       "      <td>Infante Juan Manuel</td>\n",
       "      <td>14192.0</td>\n",
       "      <td>30030</td>\n",
       "      <td>Murcia</td>\n",
       "      <td>30</td>\n",
       "      <td>Murcia</td>\n",
       "      <td>-1.124304</td>\n",
       "      <td>37.979033</td>\n",
       "      <td>558.502390</td>\n",
       "    </tr>\n",
       "    <tr>\n",
       "      <th>848</th>\n",
       "      <td>848</td>\n",
       "      <td>849</td>\n",
       "      <td>Santa Maria de Gracia</td>\n",
       "      <td>13349.0</td>\n",
       "      <td>30030</td>\n",
       "      <td>Murcia</td>\n",
       "      <td>30</td>\n",
       "      <td>Murcia</td>\n",
       "      <td>-1.202069</td>\n",
       "      <td>37.984024</td>\n",
       "      <td>549.290082</td>\n",
       "    </tr>\n",
       "    <tr>\n",
       "      <th>849</th>\n",
       "      <td>849</td>\n",
       "      <td>850</td>\n",
       "      <td>Vista Alegre</td>\n",
       "      <td>15208.0</td>\n",
       "      <td>30030</td>\n",
       "      <td>Murcia</td>\n",
       "      <td>30</td>\n",
       "      <td>Murcia</td>\n",
       "      <td>-1.130564</td>\n",
       "      <td>37.995715</td>\n",
       "      <td>555.948619</td>\n",
       "    </tr>\n",
       "    <tr>\n",
       "      <th>850</th>\n",
       "      <td>850</td>\n",
       "      <td>851</td>\n",
       "      <td>Poligono Sta M de Benquerencia</td>\n",
       "      <td>19177.0</td>\n",
       "      <td>45168</td>\n",
       "      <td>Toledo</td>\n",
       "      <td>45</td>\n",
       "      <td>Toledo</td>\n",
       "      <td>-3.948364</td>\n",
       "      <td>39.866699</td>\n",
       "      <td>88.443483</td>\n",
       "    </tr>\n",
       "    <tr>\n",
       "      <th>851</th>\n",
       "      <td>851</td>\n",
       "      <td>852</td>\n",
       "      <td>Grao</td>\n",
       "      <td>16367.0</td>\n",
       "      <td>12040</td>\n",
       "      <td>Castellón de la Plana/Castelló de la Plana</td>\n",
       "      <td>12</td>\n",
       "      <td>Castelló/Castellón</td>\n",
       "      <td>0.012911</td>\n",
       "      <td>39.973568</td>\n",
       "      <td>463.065655</td>\n",
       "    </tr>\n",
       "  </tbody>\n",
       "</table>\n",
       "<p>852 rows × 11 columns</p>\n",
       "</div>"
      ],
      "text/plain": [
       "     FID  OBJECTID                           Texto  Poblacion  CodMun  \\\n",
       "0      0         1                         Agüimes    29431.0   35002   \n",
       "1      1         2                         Antigua    10458.0   35003   \n",
       "2      2         3                        Arrecife    58156.0   35004   \n",
       "3      3         4                          Arucas    36745.0   35006   \n",
       "4      4         5                          Gáldar    24473.0   35009   \n",
       "..   ...       ...                             ...        ...     ...   \n",
       "847  847       848             Infante Juan Manuel    14192.0   30030   \n",
       "848  848       849           Santa Maria de Gracia    13349.0   30030   \n",
       "849  849       850                    Vista Alegre    15208.0   30030   \n",
       "850  850       851  Poligono Sta M de Benquerencia    19177.0   45168   \n",
       "851  851       852                            Grao    16367.0   12040   \n",
       "\n",
       "                                      Municipio  CodProvin  \\\n",
       "0                                       Agüimes         35   \n",
       "1                                       Antigua         35   \n",
       "2                                      Arrecife         35   \n",
       "3                                        Arucas         35   \n",
       "4                                        Gáldar         35   \n",
       "..                                          ...        ...   \n",
       "847                                      Murcia         30   \n",
       "848                                      Murcia         30   \n",
       "849                                      Murcia         30   \n",
       "850                                      Toledo         45   \n",
       "851  Castellón de la Plana/Castelló de la Plana         12   \n",
       "\n",
       "              Provincia          X          Y  Distancia a Madrid  \n",
       "0            Las Palmas -15.446012  27.900542         2700.434332  \n",
       "1            Las Palmas -14.013301  28.418966         2483.233898  \n",
       "2            Las Palmas -13.551451  28.960649         2371.520628  \n",
       "3            Las Palmas -15.521512  28.117496         2684.687557  \n",
       "4            Las Palmas -15.654111  28.143873         2696.512289  \n",
       "..                  ...        ...        ...                 ...  \n",
       "847              Murcia  -1.124304  37.979033          558.502390  \n",
       "848              Murcia  -1.202069  37.984024          549.290082  \n",
       "849              Murcia  -1.130564  37.995715          555.948619  \n",
       "850              Toledo  -3.948364  39.866699           88.443483  \n",
       "851  Castelló/Castellón   0.012911  39.973568          463.065655  \n",
       "\n",
       "[852 rows x 11 columns]"
      ]
     },
     "execution_count": 40,
     "metadata": {},
     "output_type": "execute_result"
    }
   ],
   "source": [
    "madrid = (-3.703797 , 40.416630)\n",
    "\n",
    "def distancia(row):\n",
    "    longitud = row['X']\n",
    "    latitud = row['Y']\n",
    "    \n",
    "    dif_longitud = abs(longitud - madrid[0])\n",
    "    dif_latitud = abs(latitud - madrid[1])\n",
    "    \n",
    "    if row['Municipio'] == 'Madrid':\n",
    "        return None\n",
    "    \n",
    "    distancia = (dif_longitud + dif_latitud) * 111.32\n",
    "    return distancia\n",
    "\n",
    "nucleos_poblacion['Distancia a Madrid'] = nucleos_poblacion.apply(distancia, axis = 1)\n",
    "nucleos_poblacion"
   ]
  },
  {
   "cell_type": "code",
   "execution_count": 36,
   "id": "f30cb0f1-8fb5-469e-b34e-1c7c84dc2223",
   "metadata": {
    "tags": []
   },
   "outputs": [
    {
     "name": "stdout",
     "output_type": "stream",
     "text": [
      "Los 10 municipios mas ceracanos a madrid son :\n",
      "                  Municipio  Distancia a Madrid\n",
      "29    Los Llanos de Aridane         2890.819630\n",
      "35   Santa Cruz de la Palma         2871.397059\n",
      "765                   Arona         2824.834516\n",
      "764                   Adeje         2824.655760\n",
      "21                    Adeje         2819.029879\n",
      "22                    Arona         2815.616625\n",
      "25            Guía de Isora         2814.726701\n",
      "37       Santiago del Teide         2809.170430\n",
      "34      San Miguel de Abona         2808.393479\n",
      "766     Granadilla de Abona         2805.048028\n"
     ]
    }
   ],
   "source": [
    "distancia_ordenada = nucleos_poblacion.sort_values(by ='Distancia a Madrid', ascending=False)\n",
    "distancia_ordenada\n",
    "#Municipios mas cercanos\n",
    "mas_cercanos = distancia_ordenada.head(10)\n",
    "print('Los 10 municipios mas ceracanos a madrid son :')\n",
    "print(mas_cercanos[['Municipio', 'Distancia a Madrid']])"
   ]
  },
  {
   "cell_type": "code",
   "execution_count": 38,
   "id": "817bee45-1396-4535-8281-dd02c612a953",
   "metadata": {
    "tags": []
   },
   "outputs": [
    {
     "name": "stdout",
     "output_type": "stream",
     "text": [
      "Los 10 municipios mas lejanos a madrid son :\n",
      "                   Municipio  Distancia a Madrid\n",
      "364                    Pinto           19.925734\n",
      "369  San Fernando de Henares           19.757780\n",
      "354                  Leganés           16.435813\n",
      "347                  Coslada           16.423816\n",
      "351                   Getafe           15.378615\n",
      "781                  Leganés           15.038430\n",
      "365       Pozuelo de Alarcón           14.619573\n",
      "780                   Getafe           13.618151\n",
      "783       Pozuelo de Alarcón           10.262580\n",
      "355                   Madrid                 NaN\n"
     ]
    }
   ],
   "source": [
    "#Municipios mas lejanos\n",
    "mas_lejanos = distancia_ordenada.tail(10)\n",
    "print('Los 10 municipios mas lejanos a madrid son :')\n",
    "print(mas_lejanos[['Municipio', 'Distancia a Madrid']])\n"
   ]
  },
  {
   "cell_type": "code",
   "execution_count": null,
   "id": "3fd5e08c-830f-43b1-8449-ec481586eef5",
   "metadata": {},
   "outputs": [],
   "source": []
  }
 ],
 "metadata": {
  "kernelspec": {
   "display_name": "Python 3 (ipykernel)",
   "language": "python",
   "name": "python3"
  },
  "language_info": {
   "codemirror_mode": {
    "name": "ipython",
    "version": 3
   },
   "file_extension": ".py",
   "mimetype": "text/x-python",
   "name": "python",
   "nbconvert_exporter": "python",
   "pygments_lexer": "ipython3",
   "version": "3.11.5"
  }
 },
 "nbformat": 4,
 "nbformat_minor": 5
}
